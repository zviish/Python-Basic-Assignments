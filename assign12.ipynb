{
 "cells": [
  {
   "cell_type": "markdown",
   "id": "aced2bdb-943b-48ed-81ef-c22d1f9d3149",
   "metadata": {},
   "source": [
    "# Assignment 12"
   ]
  },
  {
   "cell_type": "markdown",
   "id": "53433545-6b13-430c-bb5f-a5580baa5035",
   "metadata": {},
   "source": [
    "Q1"
   ]
  },
  {
   "cell_type": "code",
   "execution_count": null,
   "id": "ba41182c-4807-43e6-955b-2053bb963fd3",
   "metadata": {},
   "outputs": [],
   "source": [
    "PdfFileReader() needs to be opened in read-binary mode by passing 'rb' as argument &\n",
    "PdfFileWriter() in 'wb' write binary mode"
   ]
  },
  {
   "cell_type": "markdown",
   "id": "86f47043-51d2-416b-8955-820e44a35b04",
   "metadata": {},
   "source": [
    "Q2"
   ]
  },
  {
   "cell_type": "markdown",
   "id": "7df7baa8-ca65-41c6-b654-7e2e90d58387",
   "metadata": {},
   "source": [
    " PDF reader object has function getPage() which takes page number\n",
    "    \n",
    "    pageObj = pdfReader.getPage(5)"
   ]
  },
  {
   "cell_type": "code",
   "execution_count": 1,
   "id": "d61661f8-367d-433e-b5e8-f24268fb2958",
   "metadata": {},
   "outputs": [
    {
     "name": "stdout",
     "output_type": "stream",
     "text": [
      "Collecting PyPDF2\n",
      "  Downloading pypdf2-3.0.1-py3-none-any.whl (232 kB)\n",
      "\u001b[2K     \u001b[90m━━━━━━━━━━━━━━━━━━━━━━━━━━━━━━━━━━━━━━\u001b[0m \u001b[32m232.6/232.6 kB\u001b[0m \u001b[31m24.2 MB/s\u001b[0m eta \u001b[36m0:00:00\u001b[0m\n",
      "\u001b[?25hInstalling collected packages: PyPDF2\n",
      "Successfully installed PyPDF2-3.0.1\n"
     ]
    }
   ],
   "source": [
    "!pip install PyPDF2"
   ]
  },
  {
   "cell_type": "code",
   "execution_count": null,
   "id": "bbf30204-e906-40c9-aa0f-e4ade254c077",
   "metadata": {},
   "outputs": [],
   "source": [
    "import PyPDF as pdf\n",
    "pdfFileObj = open('example.pdf', 'rb')\n",
    "pdfReader = pdf.PdfFileReader(pdfFileObj)\n",
    "pageObj = pdfReader.getPage(5)\n",
    "print(pageObj.extractText())\n",
    "pdfFileObj.close()"
   ]
  },
  {
   "cell_type": "markdown",
   "id": "c1e41dbc-ab66-4047-969b-4a50cdce2974",
   "metadata": {},
   "source": [
    "Q3"
   ]
  },
  {
   "cell_type": "markdown",
   "id": "090e2198-e31d-463b-a52c-fa20814792eb",
   "metadata": {},
   "source": [
    "numPages property gives the number of pages in the PDF file."
   ]
  },
  {
   "cell_type": "markdown",
   "id": "7970e303-e1a1-4839-a51f-61831b5f93d2",
   "metadata": {},
   "source": [
    "Q4"
   ]
  },
  {
   "cell_type": "code",
   "execution_count": null,
   "id": "07bad85d-31da-426b-a081-a763bbf4819d",
   "metadata": {},
   "outputs": [],
   "source": [
    "file should be decrypted by calling .decrypt('swordfish')"
   ]
  },
  {
   "cell_type": "markdown",
   "id": "27ed4767-e321-44b1-ad25-1b43022fe096",
   "metadata": {},
   "source": [
    "Q5"
   ]
  },
  {
   "cell_type": "code",
   "execution_count": null,
   "id": "aa74a89b-3dc6-4fdb-bd6c-767a24886b85",
   "metadata": {},
   "outputs": [],
   "source": [
    "we use rotateClockwise() method to rotate page.\n",
    "pageObj.rotateClockwise(rotation)"
   ]
  },
  {
   "cell_type": "markdown",
   "id": "5086bc3b-2a5c-4efb-9ab4-28443f70b8b4",
   "metadata": {},
   "source": [
    "Q6"
   ]
  },
  {
   "cell_type": "code",
   "execution_count": null,
   "id": "79a35d75-f39c-4f7a-bd91-97ec73459167",
   "metadata": {},
   "outputs": [],
   "source": [
    "A document contains a multiple paragraphs which contains a multiple runs. Paragraph starts when we press enter or from new line\n",
    "run objects = group of characters within paragraph."
   ]
  },
  {
   "cell_type": "markdown",
   "id": "0421e7ee-19ba-48b4-a82a-9187a0da480a",
   "metadata": {},
   "source": [
    "Q7"
   ]
  },
  {
   "cell_type": "code",
   "execution_count": null,
   "id": "da788fa6-8d74-498b-8182-9c861616dc60",
   "metadata": {},
   "outputs": [],
   "source": [
    "import docx\n",
    "doc = docx.Document(filename)\n",
    "doc.paragraphs"
   ]
  },
  {
   "cell_type": "markdown",
   "id": "eef3a781-1c77-4392-a9ee-45f5442a81d0",
   "metadata": {},
   "source": [
    "Q8"
   ]
  },
  {
   "cell_type": "markdown",
   "id": "233c28b8-1c99-40ac-8bd5-19f2bad530be",
   "metadata": {},
   "source": [
    "Run object has bold, underline, italic, strike, and outline variables."
   ]
  },
  {
   "cell_type": "markdown",
   "id": "24f22aed-3adb-458c-8ed8-626313a1a8f0",
   "metadata": {},
   "source": [
    "Q9"
   ]
  },
  {
   "cell_type": "markdown",
   "id": "1705f557-ec41-4a7b-8ad8-40102b5a727b",
   "metadata": {},
   "source": [
    "True always makes the Run object bolded and False makes it always not bolded & none will set it to whatever is default."
   ]
  },
  {
   "cell_type": "markdown",
   "id": "0de851fc-ba40-4d59-818a-614cb00e253d",
   "metadata": {},
   "source": [
    "Q10"
   ]
  },
  {
   "cell_type": "markdown",
   "id": "dc526d82-b407-40e1-837d-84d63671a904",
   "metadata": {},
   "source": [
    "using \n",
    "import docx\n",
    "doc = docx.Document(filename) , creats document object for new owrd ducument."
   ]
  },
  {
   "cell_type": "markdown",
   "id": "1f8f3e99-ec6c-4d0c-b722-eb99db0235ec",
   "metadata": {},
   "source": [
    "Q11"
   ]
  },
  {
   "cell_type": "code",
   "execution_count": null,
   "id": "9e3cefd1-da60-4b2e-98f0-6d1b0e0b753d",
   "metadata": {},
   "outputs": [],
   "source": [
    "doc.add_paragraph('Hello there!')"
   ]
  },
  {
   "cell_type": "markdown",
   "id": "4711b67e-0769-4d69-b9f2-f17d49777797",
   "metadata": {},
   "source": [
    "Q12"
   ]
  },
  {
   "cell_type": "markdown",
   "id": "f6a49cbf-98e9-499c-99bb-fe8bc909c5ff",
   "metadata": {},
   "source": [
    "The integer 0 makes the heading the Title style, which is used for the top of the document. Integers 1 to 4 are for various heading levels, with 1 being the main heading and 4 the lowest subheading."
   ]
  }
 ],
 "metadata": {
  "kernelspec": {
   "display_name": "Python 3 (ipykernel)",
   "language": "python",
   "name": "python3"
  },
  "language_info": {
   "codemirror_mode": {
    "name": "ipython",
    "version": 3
   },
   "file_extension": ".py",
   "mimetype": "text/x-python",
   "name": "python",
   "nbconvert_exporter": "python",
   "pygments_lexer": "ipython3",
   "version": "3.10.6"
  }
 },
 "nbformat": 4,
 "nbformat_minor": 5
}
