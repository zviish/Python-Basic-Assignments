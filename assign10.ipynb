{
 "cells": [
  {
   "cell_type": "markdown",
   "id": "09fbfae1-da2a-41bc-ba79-3e16edf6000c",
   "metadata": {},
   "source": [
    "# Assignment 10"
   ]
  },
  {
   "cell_type": "markdown",
   "id": "8e859d1c-676a-4673-8a96-f64d71ec171c",
   "metadata": {},
   "source": [
    "Q1"
   ]
  },
  {
   "cell_type": "markdown",
   "id": "f7696024-ab3d-4a30-9e50-9a8aaca60b18",
   "metadata": {},
   "source": [
    "shutil.copy() used to copy files from one directory to other where as shutil.copytree() is used to copy entire parent directory."
   ]
  },
  {
   "cell_type": "markdown",
   "id": "cfc61606-79c3-45f0-939c-ab5974f452b5",
   "metadata": {},
   "source": [
    "Q2"
   ]
  },
  {
   "cell_type": "markdown",
   "id": "097ff9d0-d759-4f33-9017-3c9816c2837e",
   "metadata": {},
   "source": [
    "rename function i.e os.rename() is used to rename file"
   ]
  },
  {
   "cell_type": "markdown",
   "id": "a926e728-2fc3-4dfd-9624-80549da76406",
   "metadata": {},
   "source": [
    "Q3"
   ]
  },
  {
   "cell_type": "markdown",
   "id": "6c70cacd-cee2-41f7-ba54-fc4978166376",
   "metadata": {},
   "source": [
    "delete function in the send2trash will send file to recycle bin where as delete function shutil modules will permanentely delete file."
   ]
  },
  {
   "cell_type": "markdown",
   "id": "84f34a36-58d9-4eed-bd5e-8f94482b11b7",
   "metadata": {},
   "source": [
    "Q4"
   ]
  },
  {
   "cell_type": "markdown",
   "id": "049cd61c-31aa-47d2-959d-5bf67d2cf098",
   "metadata": {},
   "source": [
    "The zipfile.ZipFile() function is equivalent to the open() function, the first argument is the filename, and the second argument is the mode to open the ZIP file in (read, write, or append).\n",
    "e.g- zipfile.ZipFile('images.zip', 'r')"
   ]
  },
  {
   "cell_type": "markdown",
   "id": "95d1d3cd-0c44-4ec4-bcac-019aa4aca552",
   "metadata": {},
   "source": [
    "Q5"
   ]
  },
  {
   "cell_type": "code",
   "execution_count": null,
   "id": "57d0285c-16f1-4676-88d6-f5d8e28a7532",
   "metadata": {},
   "outputs": [],
   "source": [
    "import os, shutil\n",
    "\n",
    "sourcePath = input(‘Enter the absolute path of the source folder: )\n",
    " fileExtType = input(‘Enter the type of file to copy (such as .pdf or .jpg): ‘).lower()\n",
    " destPath = input(‘Enter the absolute path of the destination folder: ‘)\n",
    "\n",
    "for foldername, subfolders, filenames in os.walk(sourcePath):\n",
    " for filename in filenames:\n",
    " if filename.lower().endswith(fileExtType):\n",
    " #print(foldername + ‘\\\\’ + filename)\n",
    " copySourcePath = os.path.join(foldername, filename)\n",
    " #print(copySourcePath)\n",
    "shutil.copy(copySourcePath, destPath)\n",
    " else:\n",
    " continue"
   ]
  },
  {
   "cell_type": "code",
   "execution_count": null,
   "id": "18560221-1e4e-4b10-b42e-770c514e5a5b",
   "metadata": {},
   "outputs": [],
   "source": []
  },
  {
   "cell_type": "code",
   "execution_count": null,
   "id": "3bfb4021-7514-48b3-b092-afda05334a64",
   "metadata": {},
   "outputs": [],
   "source": []
  },
  {
   "cell_type": "code",
   "execution_count": null,
   "id": "2ddfe154-bc64-4d6e-808f-019ab99bc8c6",
   "metadata": {},
   "outputs": [],
   "source": []
  }
 ],
 "metadata": {
  "kernelspec": {
   "display_name": "Python 3 (ipykernel)",
   "language": "python",
   "name": "python3"
  },
  "language_info": {
   "codemirror_mode": {
    "name": "ipython",
    "version": 3
   },
   "file_extension": ".py",
   "mimetype": "text/x-python",
   "name": "python",
   "nbconvert_exporter": "python",
   "pygments_lexer": "ipython3",
   "version": "3.10.6"
  }
 },
 "nbformat": 4,
 "nbformat_minor": 5
}
