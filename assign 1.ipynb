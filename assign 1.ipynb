{
 "cells": [
  {
   "cell_type": "markdown",
   "id": "2ad79a42-16ee-4764-b1a7-1bf8fe682646",
   "metadata": {},
   "source": [
    "Q1"
   ]
  },
  {
   "cell_type": "markdown",
   "id": "17bb2def-d488-43e6-beb6-ad26392739e3",
   "metadata": {},
   "source": [
    "values : - 6, -87.8, 'hello'  \n",
    "\n",
    "expressions : - +, - , * , /"
   ]
  },
  {
   "cell_type": "markdown",
   "id": "b94036b1-c876-4c86-b577-acf7fd05cf26",
   "metadata": {},
   "source": [
    "Q2"
   ]
  },
  {
   "cell_type": "markdown",
   "id": "b272fc0c-f581-4b40-b27a-f4bb4948f27b",
   "metadata": {},
   "source": [
    "string = string is collection of characters within inverted comas.\n",
    "\n",
    "variables = any character or expression that holds some values that varies as per the input or the information passed."
   ]
  },
  {
   "cell_type": "markdown",
   "id": "95b41ca5-f115-4aa9-a03f-3c219c776118",
   "metadata": {},
   "source": [
    "Q3"
   ]
  },
  {
   "cell_type": "markdown",
   "id": "c057502a-09d3-429e-bbe6-e80a3c1a06bc",
   "metadata": {},
   "source": [
    "Three different data types are string, interger, boolian."
   ]
  },
  {
   "cell_type": "markdown",
   "id": "74258405-b66c-450c-a40e-058d5194e842",
   "metadata": {},
   "source": [
    "Q4"
   ]
  },
  {
   "cell_type": "markdown",
   "id": "1f40faa6-247e-4f10-b0c3-3e85d48faf2c",
   "metadata": {},
   "source": [
    "An expression is a mathematical operator, all expressions basically bring out some changes in the data as in increment or decrement or any other change in input based upon how they're implimented"
   ]
  },
  {
   "cell_type": "markdown",
   "id": "119a071b-813c-440c-bb7f-3bebdef5ce0e",
   "metadata": {},
   "source": [
    "Q5"
   ]
  },
  {
   "cell_type": "markdown",
   "id": "ba2ea873-b09b-4489-968d-412b9b66736c",
   "metadata": {},
   "source": [
    "expressions are mathematical operators where as statement is instruction given to the interpritor which identifies and displays some value if there's one"
   ]
  },
  {
   "cell_type": "markdown",
   "id": "69be2643-550c-4aa8-a857-d9e716e9c686",
   "metadata": {},
   "source": [
    "Q6"
   ]
  },
  {
   "cell_type": "code",
   "execution_count": 2,
   "id": "94510a3f-5111-46b3-8def-1e2291d6e16e",
   "metadata": {},
   "outputs": [
    {
     "data": {
      "text/plain": [
       "23"
      ]
     },
     "execution_count": 2,
     "metadata": {},
     "output_type": "execute_result"
    }
   ],
   "source": [
    "bacon = 22\n",
    "bacon + 1"
   ]
  },
  {
   "cell_type": "markdown",
   "id": "52d18756-1514-4750-b640-254d27b8e9ab",
   "metadata": {},
   "source": [
    "bacon contains value 23"
   ]
  },
  {
   "cell_type": "markdown",
   "id": "f691e703-d7ef-4e02-bfe1-b257bca68f43",
   "metadata": {},
   "source": [
    "Q7"
   ]
  },
  {
   "cell_type": "code",
   "execution_count": 3,
   "id": "d9b47ad1-b2fc-451f-8eac-a6e3c950804e",
   "metadata": {},
   "outputs": [
    {
     "data": {
      "text/plain": [
       "'spamspamspam'"
      ]
     },
     "execution_count": 3,
     "metadata": {},
     "output_type": "execute_result"
    }
   ],
   "source": [
    "'spam' + 'spamspam'"
   ]
  },
  {
   "cell_type": "code",
   "execution_count": 4,
   "id": "1c57562a-7327-4e8a-ac6a-2fc632315958",
   "metadata": {},
   "outputs": [
    {
     "data": {
      "text/plain": [
       "'spamspamspam'"
      ]
     },
     "execution_count": 4,
     "metadata": {},
     "output_type": "execute_result"
    }
   ],
   "source": [
    "'spam'*3"
   ]
  },
  {
   "cell_type": "markdown",
   "id": "bebceb43-17f1-43e0-a7ce-c74da5806ce9",
   "metadata": {},
   "source": [
    "Q8"
   ]
  },
  {
   "cell_type": "markdown",
   "id": "353d7c28-0559-4376-8e6c-d82d0cd7187d",
   "metadata": {},
   "source": [
    "variable name can't be an integer hence eggs is valid where as 100 is invalid"
   ]
  },
  {
   "cell_type": "markdown",
   "id": "8cbc0dc4-3463-4c14-941c-2312409bcb4a",
   "metadata": {},
   "source": [
    "Q9"
   ]
  },
  {
   "cell_type": "markdown",
   "id": "1efe054d-3677-4abf-895c-fac06becfc56",
   "metadata": {},
   "source": [
    "Following are the functions which can be used to get integer, floating-point number, or string\n",
    "version of a value\n",
    "\n",
    "\n",
    "string : name(value)\n",
    "\n",
    "integer : int(value)\n",
    "\n",
    "float : float(value)\n"
   ]
  },
  {
   "cell_type": "markdown",
   "id": "0b1d12a7-01bd-4c72-a422-67e8009e024a",
   "metadata": {},
   "source": [
    "Q10"
   ]
  },
  {
   "cell_type": "code",
   "execution_count": 5,
   "id": "eddca182-9cd4-4c74-8f04-e255d1cd5489",
   "metadata": {},
   "outputs": [
    {
     "ename": "TypeError",
     "evalue": "can only concatenate str (not \"int\") to str",
     "output_type": "error",
     "traceback": [
      "\u001b[0;31m---------------------------------------------------------------------------\u001b[0m",
      "\u001b[0;31mTypeError\u001b[0m                                 Traceback (most recent call last)",
      "Cell \u001b[0;32mIn [5], line 1\u001b[0m\n\u001b[0;32m----> 1\u001b[0m \u001b[38;5;124;43m'\u001b[39;49m\u001b[38;5;124;43mI have eaten\u001b[39;49m\u001b[38;5;124;43m'\u001b[39;49m\u001b[38;5;241;43m+\u001b[39;49m\u001b[38;5;241;43m99\u001b[39;49m\u001b[38;5;241m+\u001b[39m\u001b[38;5;124m'\u001b[39m\u001b[38;5;124mburritos\u001b[39m\u001b[38;5;124m'\u001b[39m\n",
      "\u001b[0;31mTypeError\u001b[0m: can only concatenate str (not \"int\") to str"
     ]
    }
   ],
   "source": [
    "'I have eaten'+99+'burritos'"
   ]
  },
  {
   "cell_type": "markdown",
   "id": "862488ca-e7b8-4ba8-b966-0046e10e73ef",
   "metadata": {},
   "source": [
    "The above statement causes error as we're trying to concatenate int vale to string and we can fix it as follows"
   ]
  },
  {
   "cell_type": "code",
   "execution_count": 7,
   "id": "d31edd88-6f75-4bf8-9e2c-bb64b2b48f6f",
   "metadata": {},
   "outputs": [
    {
     "data": {
      "text/plain": [
       "'I have eaten 99 burritos'"
      ]
     },
     "execution_count": 7,
     "metadata": {},
     "output_type": "execute_result"
    }
   ],
   "source": [
    "'I have eaten'+' 99 '+'burritos'"
   ]
  },
  {
   "cell_type": "code",
   "execution_count": null,
   "id": "3273c2a9-3a59-4f3f-84eb-7fd75dcd1abe",
   "metadata": {},
   "outputs": [],
   "source": []
  }
 ],
 "metadata": {
  "kernelspec": {
   "display_name": "Python 3 (ipykernel)",
   "language": "python",
   "name": "python3"
  },
  "language_info": {
   "codemirror_mode": {
    "name": "ipython",
    "version": 3
   },
   "file_extension": ".py",
   "mimetype": "text/x-python",
   "name": "python",
   "nbconvert_exporter": "python",
   "pygments_lexer": "ipython3",
   "version": "3.10.6"
  }
 },
 "nbformat": 4,
 "nbformat_minor": 5
}
