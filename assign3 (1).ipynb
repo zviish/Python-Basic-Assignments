{
 "cells": [
  {
   "cell_type": "markdown",
   "id": "090c6271-1386-4a69-beac-65a61c6f45c6",
   "metadata": {},
   "source": [
    "Q1"
   ]
  },
  {
   "cell_type": "markdown",
   "id": "1c9371ac-9e7d-483a-ac15-3a13daffa6df",
   "metadata": {},
   "source": [
    "Functions are advantageous to have in programme as they reduce the repetitions, we can define fun once and can call\n",
    "whenever is required."
   ]
  },
  {
   "cell_type": "markdown",
   "id": "54ea449a-0718-4158-9f57-023d2b49ee89",
   "metadata": {},
   "source": [
    "Q2"
   ]
  },
  {
   "cell_type": "markdown",
   "id": "f1f8f8e3-4f2d-4f91-af5e-94071d9915b7",
   "metadata": {},
   "source": [
    "The code in function runs when it's called, function can never run automatically to execute it we must call it"
   ]
  },
  {
   "cell_type": "markdown",
   "id": "2febe2ac-9f7a-4dd1-a204-e75609899248",
   "metadata": {},
   "source": [
    "Q3"
   ]
  },
  {
   "cell_type": "markdown",
   "id": "ae838954-ae50-46e0-8d81-57d3aa880e83",
   "metadata": {},
   "source": [
    "Following statements creates function: function definition & function call\n",
    "creating or writing the body is called defining function"
   ]
  },
  {
   "cell_type": "markdown",
   "id": "a16b222a-bd9e-4a8a-878c-8bef2f03e94b",
   "metadata": {},
   "source": [
    "Q4"
   ]
  },
  {
   "cell_type": "markdown",
   "id": "0ed680cb-e65f-4136-a70f-b0b255a9313d",
   "metadata": {},
   "source": [
    "Function is a block of code which can be called again & again and performs a specific task when we want to execute fun\n",
    "we call the function"
   ]
  },
  {
   "cell_type": "markdown",
   "id": "0f074b1f-0426-428d-bedc-cbcceb33f916",
   "metadata": {},
   "source": [
    "Q5"
   ]
  },
  {
   "cell_type": "markdown",
   "id": "0937e8e1-d0d6-42d0-84ed-88c16c458db0",
   "metadata": {},
   "source": [
    "Depending upon the programme we can count number of global or local variable they may differ as per the requirement of\n",
    "the programme, global variables are available to entire programme where as local variable will be available to the scope it's defined for."
   ]
  },
  {
   "cell_type": "markdown",
   "id": "d4b232a8-8a92-4d39-9f90-421923e1a64d",
   "metadata": {},
   "source": [
    "Q6"
   ]
  },
  {
   "cell_type": "markdown",
   "id": "828c364d-53ee-4cfa-b0d5-f6c88c4bf920",
   "metadata": {},
   "source": [
    "The value of the return function will be available locally to the local variables, hence the local variable will be able\n",
    "to access the value only, variables outside the local scope will not be able to access it."
   ]
  },
  {
   "cell_type": "markdown",
   "id": "4a1a0951-d6d1-405c-b86c-e9b1b5f8ed07",
   "metadata": {},
   "source": [
    "Q7"
   ]
  },
  {
   "cell_type": "markdown",
   "id": "e5ae81b8-e599-4340-bdaa-65278384419f",
   "metadata": {},
   "source": [
    "We use return to return some value from a function, in an expression also we return some value as expression is\n",
    "combination of mathematical operators hence it'll have some value."
   ]
  },
  {
   "cell_type": "markdown",
   "id": "b3efce6a-efda-43f2-88d6-55a6cccec62a",
   "metadata": {},
   "source": [
    "Q8"
   ]
  },
  {
   "cell_type": "markdown",
   "id": "751da93d-ba65-456b-99c7-c61ec98e8cf4",
   "metadata": {},
   "source": [
    "If a function does not have any return statement the return value of call by default will be null."
   ]
  },
  {
   "cell_type": "markdown",
   "id": "88919620-52bb-4ab2-b614-75313496fff6",
   "metadata": {},
   "source": [
    "Q9"
   ]
  },
  {
   "cell_type": "markdown",
   "id": "19e86db8-ba08-4213-af38-189bf593d428",
   "metadata": {},
   "source": [
    "In order for a function vairable to be refered to gloabl variable, it has to be declaired globally with keyword Global "
   ]
  },
  {
   "cell_type": "markdown",
   "id": "f02bf83f-a79d-4363-a8f1-bd45bdef08c5",
   "metadata": {},
   "source": [
    "Q10"
   ]
  },
  {
   "cell_type": "markdown",
   "id": "5c0fb58d-d1a9-439c-9fef-a664a559b58b",
   "metadata": {},
   "source": [
    "data type of none is null"
   ]
  },
  {
   "cell_type": "markdown",
   "id": "5abe1d71-0d0e-4fcb-b8be-e37f125e4af9",
   "metadata": {},
   "source": [
    "Q11"
   ]
  },
  {
   "cell_type": "markdown",
   "id": "4295e7d9-2504-4a61-8553-7c6bb92a605a",
   "metadata": {},
   "source": [
    "import areallyourpetsnamederic , imports this module"
   ]
  },
  {
   "cell_type": "markdown",
   "id": "af1a6f0f-cb99-4152-a0c8-da7bc5f73dcf",
   "metadata": {},
   "source": [
    "Q12"
   ]
  },
  {
   "cell_type": "markdown",
   "id": "3ffd895b-ec58-4269-92e9-8ba50138559e",
   "metadata": {},
   "source": [
    "bacon() after importing spam module will be called a local variable."
   ]
  },
  {
   "cell_type": "markdown",
   "id": "b6b45a20-ac52-4725-9ead-6762845787fb",
   "metadata": {},
   "source": [
    "Q13"
   ]
  },
  {
   "cell_type": "markdown",
   "id": "483dc9c4-d556-49ca-bf08-3ec349e7c9fb",
   "metadata": {},
   "source": [
    "we can use error handling to avoid crashing and exit the programme"
   ]
  },
  {
   "cell_type": "markdown",
   "id": "be4e4058-0622-4abc-9d30-ff6bc7dde8a9",
   "metadata": {},
   "source": [
    "Q14"
   ]
  },
  {
   "cell_type": "markdown",
   "id": "2c2a609b-01d5-4931-9c1a-b95d54b11b8e",
   "metadata": {},
   "source": [
    "Try and except clause are used to handle exception cases when arised in programme, \n",
    "try : #some code\n",
    "except : #executed if error in try block    "
   ]
  },
  {
   "cell_type": "code",
   "execution_count": null,
   "id": "923a9bdc-25a2-4918-b519-671ecddaf563",
   "metadata": {},
   "outputs": [],
   "source": []
  }
 ],
 "metadata": {
  "kernelspec": {
   "display_name": "Python 3 (ipykernel)",
   "language": "python",
   "name": "python3"
  },
  "language_info": {
   "codemirror_mode": {
    "name": "ipython",
    "version": 3
   },
   "file_extension": ".py",
   "mimetype": "text/x-python",
   "name": "python",
   "nbconvert_exporter": "python",
   "pygments_lexer": "ipython3",
   "version": "3.10.6"
  }
 },
 "nbformat": 4,
 "nbformat_minor": 5
}
