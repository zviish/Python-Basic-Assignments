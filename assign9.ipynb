{
 "cells": [
  {
   "cell_type": "markdown",
   "id": "67d8c1b7-5968-45ff-82ec-dbc484a04487",
   "metadata": {},
   "source": [
    "# Assignment 9"
   ]
  },
  {
   "cell_type": "markdown",
   "id": "9462103a-ae59-4756-9f6e-9215100b9648",
   "metadata": {},
   "source": [
    "Q1. a path that describes the location of a directory relative to the entry point is relative path."
   ]
  },
  {
   "cell_type": "markdown",
   "id": "009528dc-cffa-42a9-b7b9-8df95abed7ed",
   "metadata": {},
   "source": [
    "Q2. absolute path in os is the exact location of the directory."
   ]
  },
  {
   "cell_type": "markdown",
   "id": "0e0b9b26-1350-4b3d-9a3f-2d65082d28b0",
   "metadata": {},
   "source": [
    "Q3. os.chdir() changes directory to new directory path & getcwd() refers to current working directory"
   ]
  },
  {
   "cell_type": "markdown",
   "id": "6de7b8f0-5d72-4d60-ad17-2f4e291a67a8",
   "metadata": {},
   "source": [
    "Q4. The . is the current directory, while .. signifies the parent directory"
   ]
  },
  {
   "cell_type": "markdown",
   "id": "c2bffbd3-a0ae-4938-9bb7-0840e6cd98ba",
   "metadata": {},
   "source": [
    "Q5. C:\\bacon\\eggs\\spam.txt, base name = C:\\bacon\\eggs & dir name = spam.txt"
   ]
  },
  {
   "cell_type": "markdown",
   "id": "44f90e13-e60e-47e4-a645-2f64e3d70add",
   "metadata": {},
   "source": [
    "Q6. for open() function the three arguments can be read('r'), write('w') & appned('a') "
   ]
  },
  {
   "cell_type": "markdown",
   "id": "4515c732-39c2-4d6f-a3a3-07891fd80125",
   "metadata": {},
   "source": [
    "Q7. if an existing file is opened in write mode it opens a file for writing, creates the file if it does not exist"
   ]
  },
  {
   "cell_type": "markdown",
   "id": "723de875-7c5f-4251-a2fe-b0dc0990c7e5",
   "metadata": {},
   "source": [
    "Q8. read() reads the file as an individual string where as readlines() will read each line in file and will take more time"
   ]
  },
  {
   "cell_type": "code",
   "execution_count": null,
   "id": "3e5d30bc-f927-499b-bc18-e36f0346c751",
   "metadata": {},
   "outputs": [],
   "source": []
  },
  {
   "cell_type": "code",
   "execution_count": null,
   "id": "f6fcc61a-da80-4e12-893f-8fc5bc95831d",
   "metadata": {},
   "outputs": [],
   "source": []
  },
  {
   "cell_type": "code",
   "execution_count": null,
   "id": "cae1f0ad-c31e-4744-be6e-ba439c89d29e",
   "metadata": {},
   "outputs": [],
   "source": []
  },
  {
   "cell_type": "code",
   "execution_count": null,
   "id": "6d1ababa-219e-45ea-a2de-04d3c8a581e1",
   "metadata": {},
   "outputs": [],
   "source": []
  },
  {
   "cell_type": "code",
   "execution_count": null,
   "id": "76531939-4b74-45ab-8686-d24cccd11af5",
   "metadata": {},
   "outputs": [],
   "source": []
  },
  {
   "cell_type": "code",
   "execution_count": null,
   "id": "69ef0eb8-fd74-433a-bd39-9b50b926819e",
   "metadata": {},
   "outputs": [],
   "source": []
  },
  {
   "cell_type": "code",
   "execution_count": null,
   "id": "350cc188-85d0-4841-8a0c-4bedc80b354e",
   "metadata": {},
   "outputs": [],
   "source": []
  }
 ],
 "metadata": {
  "kernelspec": {
   "display_name": "Python 3 (ipykernel)",
   "language": "python",
   "name": "python3"
  },
  "language_info": {
   "codemirror_mode": {
    "name": "ipython",
    "version": 3
   },
   "file_extension": ".py",
   "mimetype": "text/x-python",
   "name": "python",
   "nbconvert_exporter": "python",
   "pygments_lexer": "ipython3",
   "version": "3.10.6"
  }
 },
 "nbformat": 4,
 "nbformat_minor": 5
}
