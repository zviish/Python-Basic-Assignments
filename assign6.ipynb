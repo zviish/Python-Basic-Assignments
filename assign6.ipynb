{
 "cells": [
  {
   "cell_type": "markdown",
   "id": "1b6f54f2-f6d9-4df4-8e07-59ffdd3ae5d4",
   "metadata": {},
   "source": [
    "Q1"
   ]
  },
  {
   "cell_type": "markdown",
   "id": "cd21f7ca-46a4-453d-b31a-059b58df0b7e",
   "metadata": {},
   "source": [
    "To insert a character which is not allowed normally we use escape character, character followed by \\ eg \\\"Vyom\" in a string"
   ]
  },
  {
   "cell_type": "markdown",
   "id": "a0bc441c-9e67-45ff-93fd-155b2a95ee45",
   "metadata": {},
   "source": [
    "Q2"
   ]
  },
  {
   "cell_type": "markdown",
   "id": "8fd6ba28-fe5e-4aa6-890d-4f06960dc203",
   "metadata": {},
   "source": [
    "\\n = new line,\n",
    "\\t = tab"
   ]
  },
  {
   "cell_type": "markdown",
   "id": "9ad2d562-2c0c-4e41-99d6-ea3f8d9a84da",
   "metadata": {},
   "source": [
    "Q3"
   ]
  },
  {
   "cell_type": "code",
   "execution_count": 5,
   "id": "a22bdc89-ce92-4cf6-bb58-77e1c385bc9d",
   "metadata": {},
   "outputs": [],
   "source": [
    "s = 'so where is \\\"vyom\\\" these days'"
   ]
  },
  {
   "cell_type": "markdown",
   "id": "ed403869-4c1f-4c31-8bb1-e70b486d2ada",
   "metadata": {},
   "source": [
    "include backslash character within commas"
   ]
  },
  {
   "cell_type": "markdown",
   "id": "513672fc-e660-4ab7-aada-3557f2c30d69",
   "metadata": {},
   "source": [
    "Q4"
   ]
  },
  {
   "cell_type": "code",
   "execution_count": 23,
   "id": "0d044317-a2d7-4019-ad55-5ab7c2ddd11a",
   "metadata": {},
   "outputs": [],
   "source": [
    "v= \"Howl's Moving Castle\""
   ]
  },
  {
   "cell_type": "code",
   "execution_count": 24,
   "id": "fb1e197b-81a0-47b4-ab54-91e55913b892",
   "metadata": {},
   "outputs": [
    {
     "data": {
      "text/plain": [
       "\"Howl's Moving Castle\""
      ]
     },
     "execution_count": 24,
     "metadata": {},
     "output_type": "execute_result"
    }
   ],
   "source": [
    "v"
   ]
  },
  {
   "cell_type": "markdown",
   "id": "9a24f4f0-f51b-4ad3-b0d5-75f79912ecbe",
   "metadata": {},
   "source": [
    "in python if we want to print anything with quotes we've to use both single as well as double quotes simultaneously. eg"
   ]
  },
  {
   "cell_type": "code",
   "execution_count": 21,
   "id": "25b10b1c-143d-4fea-acca-acc0ab0fcb54",
   "metadata": {},
   "outputs": [],
   "source": [
    "g= 'We are going \"Paris\" tomorrow'"
   ]
  },
  {
   "cell_type": "code",
   "execution_count": 22,
   "id": "2f344dca-deec-4ac8-874d-bfb53394a0bc",
   "metadata": {},
   "outputs": [
    {
     "data": {
      "text/plain": [
       "'We are going \"Paris\" tomorrow'"
      ]
     },
     "execution_count": 22,
     "metadata": {},
     "output_type": "execute_result"
    }
   ],
   "source": [
    "g"
   ]
  },
  {
   "cell_type": "markdown",
   "id": "06a7a89b-9b36-4237-b989-c071017003c7",
   "metadata": {},
   "source": [
    "Q5"
   ]
  },
  {
   "cell_type": "markdown",
   "id": "d0275387-0d89-4f97-8de0-02b3769e565e",
   "metadata": {},
   "source": [
    "you can use 'end' = ' ' or 'end'=  <character> where <character> will be used to separate the lines."
   ]
  },
  {
   "cell_type": "markdown",
   "id": "c99556c4-cbe2-49be-9060-53ecb08b5007",
   "metadata": {},
   "source": [
    "Q6"
   ]
  },
  {
   "cell_type": "code",
   "execution_count": 10,
   "id": "1c57da7c-cf15-412e-af3e-ae11034b884b",
   "metadata": {},
   "outputs": [
    {
     "data": {
      "text/plain": [
       "'e'"
      ]
     },
     "execution_count": 10,
     "metadata": {},
     "output_type": "execute_result"
    }
   ],
   "source": [
    "'Hello, World!'[1]"
   ]
  },
  {
   "cell_type": "code",
   "execution_count": 11,
   "id": "154fb70c-645c-4907-b8a1-755e29ea481d",
   "metadata": {},
   "outputs": [
    {
     "data": {
      "text/plain": [
       "'Hello'"
      ]
     },
     "execution_count": 11,
     "metadata": {},
     "output_type": "execute_result"
    }
   ],
   "source": [
    "'Hello, World!'[0:5]"
   ]
  },
  {
   "cell_type": "code",
   "execution_count": 12,
   "id": "4484f3c1-149c-4fae-bec0-133f58bc2e27",
   "metadata": {},
   "outputs": [
    {
     "data": {
      "text/plain": [
       "'Hello'"
      ]
     },
     "execution_count": 12,
     "metadata": {},
     "output_type": "execute_result"
    }
   ],
   "source": [
    "'Hello, World!'[:5]"
   ]
  },
  {
   "cell_type": "code",
   "execution_count": 13,
   "id": "8f365643-4d5e-4c61-8170-d71d13789815",
   "metadata": {},
   "outputs": [
    {
     "data": {
      "text/plain": [
       "'lo, World!'"
      ]
     },
     "execution_count": 13,
     "metadata": {},
     "output_type": "execute_result"
    }
   ],
   "source": [
    "'Hello, World!'[3:]"
   ]
  },
  {
   "cell_type": "markdown",
   "id": "f8525f9e-45a7-4eda-9cf0-23c77111dccc",
   "metadata": {},
   "source": [
    "Q7"
   ]
  },
  {
   "cell_type": "code",
   "execution_count": 15,
   "id": "ede48e0a-8757-424c-9745-50728dd512bf",
   "metadata": {},
   "outputs": [
    {
     "data": {
      "text/plain": [
       "'HELLO'"
      ]
     },
     "execution_count": 15,
     "metadata": {},
     "output_type": "execute_result"
    }
   ],
   "source": [
    "'Hello'.upper()"
   ]
  },
  {
   "cell_type": "code",
   "execution_count": 16,
   "id": "037743fd-941b-4c1f-932f-a7de64a6f3a4",
   "metadata": {},
   "outputs": [
    {
     "data": {
      "text/plain": [
       "True"
      ]
     },
     "execution_count": 16,
     "metadata": {},
     "output_type": "execute_result"
    }
   ],
   "source": [
    "'Hello'.upper().isupper()"
   ]
  },
  {
   "cell_type": "code",
   "execution_count": 17,
   "id": "ce326af3-10c8-4dec-ad52-029bfc2245e3",
   "metadata": {},
   "outputs": [
    {
     "data": {
      "text/plain": [
       "'hello'"
      ]
     },
     "execution_count": 17,
     "metadata": {},
     "output_type": "execute_result"
    }
   ],
   "source": [
    "'Hello'.upper().lower()"
   ]
  },
  {
   "cell_type": "markdown",
   "id": "7cbe69b7-fa57-4e6b-ba2d-1a13c6aad931",
   "metadata": {},
   "source": [
    "Q8"
   ]
  },
  {
   "cell_type": "code",
   "execution_count": 18,
   "id": "8485f951-eba1-4734-b8fd-39d38057349d",
   "metadata": {},
   "outputs": [
    {
     "data": {
      "text/plain": [
       "['Remember,', 'remember,the', 'fifth', 'of', 'july.']"
      ]
     },
     "execution_count": 18,
     "metadata": {},
     "output_type": "execute_result"
    }
   ],
   "source": [
    "'Remember, remember,the fifth of july.'.split()"
   ]
  },
  {
   "cell_type": "code",
   "execution_count": 19,
   "id": "843141c6-f4fd-4607-8fdf-91440d87f834",
   "metadata": {},
   "outputs": [
    {
     "data": {
      "text/plain": [
       "'There-can-only-one.'"
      ]
     },
     "execution_count": 19,
     "metadata": {},
     "output_type": "execute_result"
    }
   ],
   "source": [
    "'-'.join('There can only one.'.split())"
   ]
  },
  {
   "cell_type": "markdown",
   "id": "fe8daf11-e679-41f1-a671-dae9f7aedb02",
   "metadata": {},
   "source": [
    "Q9"
   ]
  },
  {
   "cell_type": "markdown",
   "id": "bc6c5ea8-3ab1-49c7-bfcf-feaee67cafdf",
   "metadata": {},
   "source": [
    "rjust(), ljust(), center()"
   ]
  },
  {
   "cell_type": "markdown",
   "id": "a10a91d3-e0a0-41c4-a4cb-db93417dd5e0",
   "metadata": {},
   "source": [
    "Q10"
   ]
  },
  {
   "cell_type": "code",
   "execution_count": null,
   "id": "a672e666-a275-4af4-8423-586481217362",
   "metadata": {},
   "outputs": [],
   "source": [
    "lstrip(), rstrip()"
   ]
  }
 ],
 "metadata": {
  "kernelspec": {
   "display_name": "Python 3 (ipykernel)",
   "language": "python",
   "name": "python3"
  },
  "language_info": {
   "codemirror_mode": {
    "name": "ipython",
    "version": 3
   },
   "file_extension": ".py",
   "mimetype": "text/x-python",
   "name": "python",
   "nbconvert_exporter": "python",
   "pygments_lexer": "ipython3",
   "version": "3.10.6"
  }
 },
 "nbformat": 4,
 "nbformat_minor": 5
}
