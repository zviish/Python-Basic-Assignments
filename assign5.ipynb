{
 "cells": [
  {
   "cell_type": "markdown",
   "id": "d6db4160-27ae-4ca9-98ff-e77c6a938e0e",
   "metadata": {},
   "source": [
    "Q1"
   ]
  },
  {
   "cell_type": "code",
   "execution_count": 1,
   "id": "d87283e5-c2c5-4e45-8820-850b4ec86311",
   "metadata": {},
   "outputs": [],
   "source": [
    "d = {}"
   ]
  },
  {
   "cell_type": "markdown",
   "id": "e93fadf0-5b04-4802-9a80-cc63951b1b21",
   "metadata": {},
   "source": [
    "Q2"
   ]
  },
  {
   "cell_type": "code",
   "execution_count": 2,
   "id": "1db665cc-d5bc-4e49-9a9e-4a2588ff6c0b",
   "metadata": {},
   "outputs": [],
   "source": [
    "e ={'foo' : 42}"
   ]
  },
  {
   "cell_type": "code",
   "execution_count": 6,
   "id": "422d5c01-4e00-4442-a7f4-c0e5ecd24ed7",
   "metadata": {},
   "outputs": [
    {
     "data": {
      "text/plain": [
       "42"
      ]
     },
     "execution_count": 6,
     "metadata": {},
     "output_type": "execute_result"
    }
   ],
   "source": [
    "e['foo']"
   ]
  },
  {
   "cell_type": "markdown",
   "id": "df0cf2ce-be14-4dc4-8fbc-cb165dc7c1af",
   "metadata": {},
   "source": [
    "Q3"
   ]
  },
  {
   "cell_type": "markdown",
   "id": "309fb26f-2d89-467a-8625-4b42155c7d40",
   "metadata": {},
   "source": [
    "In list value is accessed by index of element where as in dictionay value is accessed via key"
   ]
  },
  {
   "cell_type": "markdown",
   "id": "37e1214d-2325-4e8c-a51d-4029d14e7e70",
   "metadata": {},
   "source": [
    "Q4"
   ]
  },
  {
   "cell_type": "code",
   "execution_count": 7,
   "id": "67b7c191-61b5-4b44-a1e2-04791e44d31c",
   "metadata": {},
   "outputs": [],
   "source": [
    "spam = {'bar' : 100}"
   ]
  },
  {
   "cell_type": "code",
   "execution_count": 8,
   "id": "a34dd76b-e8c6-4b82-9d8c-459d51a723f3",
   "metadata": {},
   "outputs": [
    {
     "ename": "KeyError",
     "evalue": "'foo'",
     "output_type": "error",
     "traceback": [
      "\u001b[0;31m---------------------------------------------------------------------------\u001b[0m",
      "\u001b[0;31mKeyError\u001b[0m                                  Traceback (most recent call last)",
      "Cell \u001b[0;32mIn [8], line 1\u001b[0m\n\u001b[0;32m----> 1\u001b[0m \u001b[43mspam\u001b[49m\u001b[43m[\u001b[49m\u001b[38;5;124;43m'\u001b[39;49m\u001b[38;5;124;43mfoo\u001b[39;49m\u001b[38;5;124;43m'\u001b[39;49m\u001b[43m]\u001b[49m\n",
      "\u001b[0;31mKeyError\u001b[0m: 'foo'"
     ]
    }
   ],
   "source": [
    "spam['foo']"
   ]
  },
  {
   "cell_type": "markdown",
   "id": "3760660f-6826-4033-85ad-247e6f1c068b",
   "metadata": {},
   "source": [
    "Q5"
   ]
  },
  {
   "cell_type": "code",
   "execution_count": 7,
   "id": "fa757cba-04ea-41a4-b548-6f5632c99113",
   "metadata": {},
   "outputs": [],
   "source": [
    "spam ={'key': 'cat'}"
   ]
  },
  {
   "cell_type": "code",
   "execution_count": 9,
   "id": "5168af82-9fcd-4bf8-a368-0a92e224b1eb",
   "metadata": {},
   "outputs": [
    {
     "data": {
      "text/plain": [
       "dict_keys(['key'])"
      ]
     },
     "execution_count": 9,
     "metadata": {},
     "output_type": "execute_result"
    }
   ],
   "source": [
    "spam.keys()"
   ]
  },
  {
   "cell_type": "markdown",
   "id": "cb6c3d23-abf0-49d1-8fda-41d6b863e75a",
   "metadata": {},
   "source": [
    "cat in spam is the value provided to the key where as spam.key() represents the key which is available inside dictionary"
   ]
  },
  {
   "cell_type": "markdown",
   "id": "0d7b6395-20b7-40a5-ac3f-ee754244579a",
   "metadata": {},
   "source": [
    "Q6"
   ]
  },
  {
   "cell_type": "code",
   "execution_count": 12,
   "id": "c0ddee85-638e-4d38-aea2-c5168c37c648",
   "metadata": {},
   "outputs": [
    {
     "data": {
      "text/plain": [
       "{'key': 'cat'}"
      ]
     },
     "execution_count": 12,
     "metadata": {},
     "output_type": "execute_result"
    }
   ],
   "source": [
    "spam"
   ]
  },
  {
   "cell_type": "code",
   "execution_count": 13,
   "id": "4a945afb-ae68-4808-b9ae-e84bb02560e0",
   "metadata": {},
   "outputs": [
    {
     "data": {
      "text/plain": [
       "dict_values(['cat'])"
      ]
     },
     "execution_count": 13,
     "metadata": {},
     "output_type": "execute_result"
    }
   ],
   "source": [
    "spam.values()"
   ]
  },
  {
   "cell_type": "markdown",
   "id": "c22a7f78-567a-4497-8d3c-70775f39b41a",
   "metadata": {},
   "source": [
    "cat in spam is the value provided to the key & as spam.value() represents the value of dictionary"
   ]
  },
  {
   "cell_type": "markdown",
   "id": "e27c2fc2-7049-44ca-affe-79bb83247666",
   "metadata": {},
   "source": [
    "Q7"
   ]
  },
  {
   "cell_type": "code",
   "execution_count": null,
   "id": "54b8c3f3-1666-405c-ab80-0a053acaf6a5",
   "metadata": {},
   "outputs": [],
   "source": [
    "if 'color' not in spam :\n",
    "    spam['color'] = 'black'"
   ]
  },
  {
   "cell_type": "code",
   "execution_count": null,
   "id": "5d2f3ce0-ba0a-47fc-82db-c7daf08d0e9d",
   "metadata": {},
   "outputs": [],
   "source": [
    "if spam.get('color') == none :\n",
    "    spam['color'] = 'black'"
   ]
  },
  {
   "cell_type": "markdown",
   "id": "25b051a3-2d21-404a-8d90-4912c783bb5d",
   "metadata": {},
   "source": [
    "Q8"
   ]
  },
  {
   "cell_type": "markdown",
   "id": "06cc6110-da28-4f27-bcfa-75bf5a4aa625",
   "metadata": {},
   "source": [
    "'pretty print' is a library whcih is used to format data in more presentable form it uses pprint function \n",
    "of pprint module"
   ]
  },
  {
   "cell_type": "code",
   "execution_count": null,
   "id": "10c3e777-5514-4411-91a6-476449ccd239",
   "metadata": {},
   "outputs": [],
   "source": []
  }
 ],
 "metadata": {
  "kernelspec": {
   "display_name": "Python 3 (ipykernel)",
   "language": "python",
   "name": "python3"
  },
  "language_info": {
   "codemirror_mode": {
    "name": "ipython",
    "version": 3
   },
   "file_extension": ".py",
   "mimetype": "text/x-python",
   "name": "python",
   "nbconvert_exporter": "python",
   "pygments_lexer": "ipython3",
   "version": "3.10.6"
  }
 },
 "nbformat": 4,
 "nbformat_minor": 5
}
