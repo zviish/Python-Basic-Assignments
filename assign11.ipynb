{
 "cells": [
  {
   "cell_type": "markdown",
   "id": "964f446d-1a4a-40ed-ada2-54e13265c154",
   "metadata": {
    "tags": []
   },
   "source": [
    "# Assignment 11"
   ]
  },
  {
   "cell_type": "markdown",
   "id": "c91b5c24-1c59-4fee-9911-7c0970d8c564",
   "metadata": {},
   "source": [
    "Q1"
   ]
  },
  {
   "cell_type": "code",
   "execution_count": 5,
   "id": "9f5ee96c-ec0a-40a2-ac42-ede1bf7e02f2",
   "metadata": {},
   "outputs": [
    {
     "ename": "AssertionError",
     "evalue": "Invalid Operation",
     "output_type": "error",
     "traceback": [
      "\u001b[0;31m---------------------------------------------------------------------------\u001b[0m",
      "\u001b[0;31mAssertionError\u001b[0m                            Traceback (most recent call last)",
      "Cell \u001b[0;32mIn [5], line 6\u001b[0m\n\u001b[1;32m      4\u001b[0m x \u001b[38;5;241m=\u001b[39m \u001b[38;5;241m4\u001b[39m\n\u001b[1;32m      5\u001b[0m y \u001b[38;5;241m=\u001b[39m \u001b[38;5;241m-\u001b[39m\u001b[38;5;241m1\u001b[39m\n\u001b[0;32m----> 6\u001b[0m \u001b[38;5;28;01massert\u001b[39;00m y \u001b[38;5;241m>\u001b[39m \u001b[38;5;241m0\u001b[39m, \u001b[38;5;124m\"\u001b[39m\u001b[38;5;124mInvalid Operation\u001b[39m\u001b[38;5;124m\"\u001b[39m \u001b[38;5;66;03m# denominator can't be negative\u001b[39;00m\n\u001b[1;32m      7\u001b[0m \u001b[38;5;28mprint\u001b[39m(x \u001b[38;5;241m/\u001b[39m y)\n",
      "\u001b[0;31mAssertionError\u001b[0m: Invalid Operation"
     ]
    }
   ],
   "source": [
    "#assert statement that throws an AssertionError if the variable spam is a negative integer.\n",
    "\n",
    "# AssertionError with error_message.\n",
    "x = 4\n",
    "y = -1\n",
    "assert y > 0, \"Invalid Operation\" # denominator can't be negative\n",
    "print(x / y)\n"
   ]
  },
  {
   "cell_type": "markdown",
   "id": "29f26b9a-9e91-482e-8459-0427325a3a19",
   "metadata": {},
   "source": [
    "Q2"
   ]
  },
  {
   "cell_type": "code",
   "execution_count": null,
   "id": "f6aebc63-3d9d-4310-abf9-5506d2d63ef7",
   "metadata": {},
   "outputs": [],
   "source": [
    "assert eggs.uppar() != bacon.uppar()"
   ]
  },
  {
   "cell_type": "markdown",
   "id": "c3fadbcd-209a-4d8f-981b-30eb98d5bfdb",
   "metadata": {},
   "source": [
    "Q3"
   ]
  },
  {
   "cell_type": "code",
   "execution_count": 8,
   "id": "891af40a-f08e-4559-ba09-0c201b63bce1",
   "metadata": {},
   "outputs": [
    {
     "ename": "AssertionError",
     "evalue": "denominator can't be zero",
     "output_type": "error",
     "traceback": [
      "\u001b[0;31m---------------------------------------------------------------------------\u001b[0m",
      "\u001b[0;31mAssertionError\u001b[0m                            Traceback (most recent call last)",
      "Cell \u001b[0;32mIn [8], line 4\u001b[0m\n\u001b[1;32m      1\u001b[0m a\u001b[38;5;241m=\u001b[39m\u001b[38;5;241m2\u001b[39m\n\u001b[1;32m      2\u001b[0m b\u001b[38;5;241m=\u001b[39m\u001b[38;5;241m0\u001b[39m\n\u001b[0;32m----> 4\u001b[0m \u001b[38;5;28;01massert\u001b[39;00m b \u001b[38;5;241m!=\u001b[39m \u001b[38;5;241m0\u001b[39m, \u001b[38;5;124m\"\u001b[39m\u001b[38;5;124mdenominator can\u001b[39m\u001b[38;5;124m'\u001b[39m\u001b[38;5;124mt be zero\u001b[39m\u001b[38;5;124m\"\u001b[39m \n\u001b[1;32m      5\u001b[0m \u001b[38;5;28mprint\u001b[39m(a\u001b[38;5;241m/\u001b[39mb)\n",
      "\u001b[0;31mAssertionError\u001b[0m: denominator can't be zero"
     ]
    }
   ],
   "source": [
    "a=2\n",
    "b=0\n",
    "\n",
    "assert b != 0, \"denominator can't be zero\" \n",
    "print(a/b)"
   ]
  },
  {
   "cell_type": "markdown",
   "id": "09559904-e9c4-4d79-9e34-47945a186f9e",
   "metadata": {},
   "source": [
    "Q4"
   ]
  },
  {
   "cell_type": "markdown",
   "id": "31b92779-36e0-4770-b407-459ebb62ed36",
   "metadata": {},
   "source": [
    "in order to call logging.debug() req are import logging & logging.basicConfig(filename='example.log', filemode='w', level=logging.DEBUG)"
   ]
  },
  {
   "cell_type": "markdown",
   "id": "95f0583f-c7c4-44a9-96f0-e8bc27f2673c",
   "metadata": {},
   "source": [
    "Q5"
   ]
  },
  {
   "cell_type": "code",
   "execution_count": null,
   "id": "7d7a0574-1876-4ea7-98ce-6ed429761614",
   "metadata": {},
   "outputs": [],
   "source": [
    "import logging\n",
    "logging.basicConfig(filename='programLog.txt', filemode='w', level=logging.DEBUG)"
   ]
  },
  {
   "cell_type": "markdown",
   "id": "25b28d0f-3684-4db0-856b-6493eb62a3a9",
   "metadata": {},
   "source": [
    "Q6"
   ]
  },
  {
   "cell_type": "markdown",
   "id": "2394d920-719d-442f-bffe-ca0472243b41",
   "metadata": {},
   "source": [
    "5 levels of logging are \n",
    "\n",
    "1. debug\n",
    "2. info\n",
    "3. warning \n",
    "4. error\n",
    "5. critical"
   ]
  },
  {
   "cell_type": "markdown",
   "id": "4792f107-6429-4500-b9f6-a8bfa382c50e",
   "metadata": {},
   "source": [
    "Q7"
   ]
  },
  {
   "cell_type": "code",
   "execution_count": null,
   "id": "8652e308-bca7-40dc-a7b6-12ba7ef13c2e",
   "metadata": {},
   "outputs": [],
   "source": [
    "getLogger() function can be used to disable logging"
   ]
  },
  {
   "cell_type": "raw",
   "id": "cf38a4a5-6d9e-4789-8839-5e922e48cf7b",
   "metadata": {},
   "source": [
    "Q8"
   ]
  },
  {
   "cell_type": "markdown",
   "id": "1c278501-a718-4a71-b622-71b84094b55e",
   "metadata": {},
   "source": [
    "logging helps writing status messages to file & file can contain message, which part of the code has been executed and what problems have arisen.\n",
    "printing may solve issues for simple scripts but for complex scripts, the printing approach will fail."
   ]
  },
  {
   "cell_type": "markdown",
   "id": "a1f53f75-0106-4129-bfa0-c80e4af214cb",
   "metadata": {},
   "source": [
    "Q9"
   ]
  },
  {
   "cell_type": "markdown",
   "id": "04e42218-f36a-4a46-8e39-0a81fb7ca633",
   "metadata": {},
   "source": [
    "step over =  Steps over the current line of code and takes you to the next line even if the highlighted line has method calls in it. The implementation of the methods is skipped, and you move straight to the next line of the caller method."
   ]
  },
  {
   "cell_type": "markdown",
   "id": "b0894dee-0581-4282-9a79-bbc685a61a94",
   "metadata": {},
   "source": [
    "step in = steps into the code\n",
    "step out = steps out of the line(current method) & takes you to the next line(caller method) of the code"
   ]
  },
  {
   "cell_type": "markdown",
   "id": "e2593b46-06ca-49d2-913e-b088bf9fd0cd",
   "metadata": {},
   "source": [
    "Q10"
   ]
  },
  {
   "cell_type": "markdown",
   "id": "c6970abe-b2a2-470c-8e99-abe042e91c5c",
   "metadata": {},
   "source": [
    "it will only stop when a breakpoint is encountered."
   ]
  },
  {
   "cell_type": "code",
   "execution_count": null,
   "id": "026d3080-c16a-4428-91c9-c028d6c42e57",
   "metadata": {},
   "outputs": [],
   "source": [
    "Q11"
   ]
  },
  {
   "cell_type": "markdown",
   "id": "735c4cc7-3ed9-4700-8dc0-4cecddc38716",
   "metadata": {},
   "source": [
    "we use breakpoint where we have doubt or somewhere we want to check for bugs or errors. If bug is found programme stops temporarily and we can remove error."
   ]
  }
 ],
 "metadata": {
  "kernelspec": {
   "display_name": "Python 3 (ipykernel)",
   "language": "python",
   "name": "python3"
  },
  "language_info": {
   "codemirror_mode": {
    "name": "ipython",
    "version": 3
   },
   "file_extension": ".py",
   "mimetype": "text/x-python",
   "name": "python",
   "nbconvert_exporter": "python",
   "pygments_lexer": "ipython3",
   "version": "3.10.6"
  }
 },
 "nbformat": 4,
 "nbformat_minor": 5
}
