{
 "cells": [
  {
   "cell_type": "markdown",
   "id": "f9fc8ecd-72c1-43e1-b306-82cdabbb724b",
   "metadata": {},
   "source": [
    "Q1"
   ]
  },
  {
   "cell_type": "markdown",
   "id": "77547a52-0fc9-49df-aa4c-3293a482cade",
   "metadata": {},
   "source": [
    "The two values of boolean data types i.e True & False"
   ]
  },
  {
   "cell_type": "markdown",
   "id": "f1fe1af8-d6bf-42a0-8743-92e996cb4969",
   "metadata": {},
   "source": [
    "q2"
   ]
  },
  {
   "cell_type": "markdown",
   "id": "a88cd85d-46b1-4be1-b7bc-b39ce4e42255",
   "metadata": {},
   "source": [
    "Three different types of booleans are and , or , not"
   ]
  },
  {
   "cell_type": "markdown",
   "id": "9c120048-05b5-4ced-938c-dcb0c801d77d",
   "metadata": {},
   "source": [
    "q3"
   ]
  },
  {
   "cell_type": "code",
   "execution_count": null,
   "id": "5b138b09-2aac-4907-85bc-df14afc797f2",
   "metadata": {},
   "outputs": [],
   "source": [
    "AND           \n",
    "\n",
    "A   B    O/P \n",
    "\n",
    "T   T    T         \n",
    "\n",
    "T   F    F         \n",
    "\n",
    "F   T    F  \n",
    "\n",
    "F   F    F"
   ]
  },
  {
   "cell_type": "code",
   "execution_count": 16,
   "id": "8a3a5d95-1137-4dd5-9d54-46762f5d4041",
   "metadata": {},
   "outputs": [
    {
     "name": "stdout",
     "output_type": "stream",
     "text": [
      "False\n"
     ]
    }
   ],
   "source": [
    "print((4<3) and (1<4))  #is true when both are true"
   ]
  },
  {
   "cell_type": "markdown",
   "id": "99c4d610-945d-491a-a88f-6bdaab08f9d9",
   "metadata": {},
   "source": [
    "OR\n",
    "\n",
    "\n",
    "A   B     O/P\n",
    "\n",
    "T   T     T\n",
    "\n",
    "F   T     T\n",
    "\n",
    "T   F     T\n",
    "\n",
    "F   F     F"
   ]
  },
  {
   "cell_type": "markdown",
   "id": "522e504e-94db-49c1-a0ba-90704c31e54e",
   "metadata": {},
   "source": [
    "print((5>6) or (8==8))   #is true when either is true"
   ]
  },
  {
   "cell_type": "markdown",
   "id": "e653d0bd-380f-4246-bba9-917bd501b582",
   "metadata": {},
   "source": [
    "NOT\n",
    "\n",
    "\n",
    "A    B     O/P\n",
    "\n",
    "F    F      T\n",
    "\n",
    "T    F      F\n"
   ]
  },
  {
   "cell_type": "code",
   "execution_count": 19,
   "id": "1fc86a31-7e38-47d4-ac9a-99802de0ca93",
   "metadata": {},
   "outputs": [
    {
     "name": "stdout",
     "output_type": "stream",
     "text": [
      "True\n"
     ]
    }
   ],
   "source": [
    "print(not(3<=1))   #is true when both are false"
   ]
  },
  {
   "cell_type": "markdown",
   "id": "3dd61785-c4c0-4194-9b3c-a683ee00f159",
   "metadata": {},
   "source": [
    "q4"
   ]
  },
  {
   "cell_type": "code",
   "execution_count": 20,
   "id": "48743334-0ad6-4ee0-a1a5-9ccb5ba2fb43",
   "metadata": {},
   "outputs": [
    {
     "data": {
      "text/plain": [
       "False"
      ]
     },
     "execution_count": 20,
     "metadata": {},
     "output_type": "execute_result"
    }
   ],
   "source": [
    "(5 > 4) and (3 == 5)"
   ]
  },
  {
   "cell_type": "code",
   "execution_count": 21,
   "id": "7d982c96-50f6-488d-9cf6-0e158adca64c",
   "metadata": {},
   "outputs": [
    {
     "data": {
      "text/plain": [
       "False"
      ]
     },
     "execution_count": 21,
     "metadata": {},
     "output_type": "execute_result"
    }
   ],
   "source": [
    "not(5>4)"
   ]
  },
  {
   "cell_type": "code",
   "execution_count": 22,
   "id": "b8f87aba-5375-44bb-8dc2-eafa3375effb",
   "metadata": {},
   "outputs": [
    {
     "data": {
      "text/plain": [
       "True"
      ]
     },
     "execution_count": 22,
     "metadata": {},
     "output_type": "execute_result"
    }
   ],
   "source": [
    "(5>4) or (3==5)"
   ]
  },
  {
   "cell_type": "code",
   "execution_count": 23,
   "id": "156cc6a9-fb20-4bee-87af-bd2d27600501",
   "metadata": {},
   "outputs": [
    {
     "data": {
      "text/plain": [
       "False"
      ]
     },
     "execution_count": 23,
     "metadata": {},
     "output_type": "execute_result"
    }
   ],
   "source": [
    "not((5>4) or (3==5))"
   ]
  },
  {
   "cell_type": "code",
   "execution_count": 24,
   "id": "2018f9ba-278b-4300-b103-f4f85f043aa0",
   "metadata": {},
   "outputs": [
    {
     "data": {
      "text/plain": [
       "False"
      ]
     },
     "execution_count": 24,
     "metadata": {},
     "output_type": "execute_result"
    }
   ],
   "source": [
    "(True and True) and (True == False)"
   ]
  },
  {
   "cell_type": "code",
   "execution_count": 26,
   "id": "6509a6f2-97e4-4350-897a-0956b6b5e18f",
   "metadata": {},
   "outputs": [
    {
     "data": {
      "text/plain": [
       "True"
      ]
     },
     "execution_count": 26,
     "metadata": {},
     "output_type": "execute_result"
    }
   ],
   "source": [
    "(not False) or (not True)"
   ]
  },
  {
   "cell_type": "markdown",
   "id": "e521b81b-0dae-48a5-8179-83ee8526d680",
   "metadata": {},
   "source": [
    "q5"
   ]
  },
  {
   "cell_type": "markdown",
   "id": "6d25f2bf-b30b-433a-86f3-fbc562187968",
   "metadata": {},
   "source": [
    "6 comaprison operators are > ,< , ==, >= , =<, !="
   ]
  },
  {
   "cell_type": "markdown",
   "id": "f9e19f9b-ba7e-44dd-b6c2-fd2ff8d82d0d",
   "metadata": {},
   "source": [
    "q6"
   ]
  },
  {
   "cell_type": "code",
   "execution_count": 41,
   "id": "9ec39e4e-8f20-4d0a-b525-021948e5c349",
   "metadata": {},
   "outputs": [],
   "source": [
    "a= 8\n",
    "b= 5"
   ]
  },
  {
   "cell_type": "code",
   "execution_count": 42,
   "id": "ec1f6ddf-25d3-4b20-b9e4-a0b7c7833344",
   "metadata": {},
   "outputs": [
    {
     "name": "stdout",
     "output_type": "stream",
     "text": [
      "40\n"
     ]
    }
   ],
   "source": [
    "a = a*b\n",
    "print(a)  #a has been assigned the value of the product of two inputs"
   ]
  },
  {
   "cell_type": "code",
   "execution_count": 55,
   "id": "f3dde88b-d65d-4fce-bf8f-68b364d48ff9",
   "metadata": {},
   "outputs": [],
   "source": [
    "a='ram'\n",
    "b='merry'"
   ]
  },
  {
   "cell_type": "code",
   "execution_count": 63,
   "id": "31636094-e630-4854-b5e8-05495d2fa860",
   "metadata": {},
   "outputs": [
    {
     "name": "stdout",
     "output_type": "stream",
     "text": [
      "False\n"
     ]
    }
   ],
   "source": [
    "print(a==b)\n"
   ]
  },
  {
   "cell_type": "code",
   "execution_count": 66,
   "id": "d9b4a6d1-a08b-4247-bbd1-fe5db40adf42",
   "metadata": {},
   "outputs": [
    {
     "name": "stdout",
     "output_type": "stream",
     "text": [
      "True\n"
     ]
    }
   ],
   "source": [
    "a=2\n",
    "b=2\n",
    "print(a==b)\n"
   ]
  },
  {
   "cell_type": "markdown",
   "id": "c13219be-5552-4876-ae87-ad8064a5d8c0",
   "metadata": {},
   "source": [
    "assignment operator assigns some value where as equal to operator compares weather two values are same or not"
   ]
  },
  {
   "cell_type": "markdown",
   "id": "100e3b8a-7e0c-4529-a4f8-8bceb720e34b",
   "metadata": {},
   "source": [
    "q7"
   ]
  },
  {
   "cell_type": "code",
   "execution_count": 69,
   "id": "13ecbf2b-b832-451a-8ce9-a1ae11a88493",
   "metadata": {},
   "outputs": [
    {
     "name": "stdout",
     "output_type": "stream",
     "text": [
      "ham\n",
      "spam\n",
      "spam\n"
     ]
    }
   ],
   "source": [
    "spam = 0\n",
    "if spam == 10:\n",
    "    print('eggs')\n",
    "if spam > 5:\n",
    "    print('bacon')\n",
    "else :   \n",
    "    print('ham')\n",
    "    print('spam')\n",
    "    print('spam')"
   ]
  },
  {
   "cell_type": "markdown",
   "id": "52508233-a074-41cd-b70a-2ac43e91f369",
   "metadata": {},
   "source": [
    "3 blocks \n",
    "0 has been intialised globally, spam has not being intialised to take any input from user.\n",
    "instead of if spam> 5 elif will be used"
   ]
  },
  {
   "cell_type": "markdown",
   "id": "005498ce-171d-4c53-b058-2f55e006d45c",
   "metadata": {},
   "source": [
    "q8"
   ]
  },
  {
   "cell_type": "code",
   "execution_count": 13,
   "id": "1ba87170-bf96-431d-9544-c5880085ba02",
   "metadata": {},
   "outputs": [
    {
     "name": "stdin",
     "output_type": "stream",
     "text": [
      " 6\n"
     ]
    },
    {
     "name": "stdout",
     "output_type": "stream",
     "text": [
      "Greeting!\n"
     ]
    }
   ],
   "source": [
    "spam = int(input())\n",
    "if (spam ==1):\n",
    "    print('Hello')\n",
    "elif (spam ==2) :\n",
    "     print('howday')\n",
    "else :\n",
    "     print('Greeting!')\n"
   ]
  },
  {
   "cell_type": "markdown",
   "id": "f6a8c494-f3ea-4fe9-af30-9577d4c5089a",
   "metadata": {},
   "source": [
    "q9"
   ]
  },
  {
   "cell_type": "markdown",
   "id": "bb347f21-bdfd-4974-a275-8400e3c17295",
   "metadata": {},
   "source": [
    "Interrupt kernal, I"
   ]
  },
  {
   "cell_type": "markdown",
   "id": "bf88b208-1da9-457a-a10c-bdb3a0d22bb3",
   "metadata": {},
   "source": [
    "q10"
   ]
  },
  {
   "cell_type": "markdown",
   "id": "9fecd063-8280-43af-b93c-c4c1ccadff36",
   "metadata": {},
   "source": [
    "break keyword is used to break & come out of a loop or imposed condition if satisfied where as continue is used to\n",
    "stay in loop and continue to fetch further values as satisfied by the input."
   ]
  },
  {
   "cell_type": "markdown",
   "id": "6f93c486-8a64-4d78-a26d-d53aeddb97ad",
   "metadata": {},
   "source": [
    "q11"
   ]
  },
  {
   "cell_type": "code",
   "execution_count": 20,
   "id": "36f0f4dc-8c5f-464f-a7b9-2e5d2eb62050",
   "metadata": {},
   "outputs": [
    {
     "data": {
      "text/plain": [
       "[0, 1, 2, 3, 4, 5, 6, 7, 8, 9]"
      ]
     },
     "execution_count": 20,
     "metadata": {},
     "output_type": "execute_result"
    }
   ],
   "source": [
    "list(range(10))"
   ]
  },
  {
   "cell_type": "code",
   "execution_count": 21,
   "id": "4ade78d3-3b5a-4ee5-b9e6-2c9732780e79",
   "metadata": {},
   "outputs": [
    {
     "data": {
      "text/plain": [
       "[0, 1, 2, 3, 4, 5, 6, 7, 8, 9]"
      ]
     },
     "execution_count": 21,
     "metadata": {},
     "output_type": "execute_result"
    }
   ],
   "source": [
    "list(range(0,10))"
   ]
  },
  {
   "cell_type": "code",
   "execution_count": 22,
   "id": "71ba299c-0bef-4546-bd63-28ec290ae58c",
   "metadata": {},
   "outputs": [
    {
     "data": {
      "text/plain": [
       "[0, 1, 2, 3, 4, 5, 6, 7, 8, 9]"
      ]
     },
     "execution_count": 22,
     "metadata": {},
     "output_type": "execute_result"
    }
   ],
   "source": [
    "list(range(0,10,1))"
   ]
  },
  {
   "cell_type": "code",
   "execution_count": 23,
   "id": "507ae064-90f7-4d8a-90d6-05d3da074378",
   "metadata": {},
   "outputs": [
    {
     "data": {
      "text/plain": [
       "range(0, 10)"
      ]
     },
     "execution_count": 23,
     "metadata": {},
     "output_type": "execute_result"
    }
   ],
   "source": [
    "range(10)"
   ]
  },
  {
   "cell_type": "markdown",
   "id": "cc6cb35e-8b41-4193-befb-92b00c2df47a",
   "metadata": {},
   "source": [
    "it'll print the same no of digits with an interval of 1 so there'll be no difference"
   ]
  },
  {
   "cell_type": "markdown",
   "id": "f56b3c53-2dc9-41e7-9e1e-8de9f51efb30",
   "metadata": {},
   "source": [
    "q12"
   ]
  },
  {
   "cell_type": "code",
   "execution_count": 28,
   "id": "44e2c66e-611d-4c2f-8b36-96eddab1e86c",
   "metadata": {},
   "outputs": [
    {
     "name": "stdout",
     "output_type": "stream",
     "text": [
      "1\n",
      "2\n",
      "3\n",
      "4\n",
      "5\n",
      "6\n",
      "7\n",
      "8\n",
      "9\n",
      "10\n"
     ]
    }
   ],
   "source": [
    "for i in range(10):\n",
    "    print(i+1)"
   ]
  },
  {
   "cell_type": "code",
   "execution_count": 31,
   "id": "2999fa1f-30da-40f9-a16c-79aabb45d36d",
   "metadata": {},
   "outputs": [
    {
     "name": "stdout",
     "output_type": "stream",
     "text": [
      "1\n",
      "2\n",
      "3\n",
      "4\n",
      "5\n",
      "6\n",
      "7\n",
      "8\n",
      "9\n",
      "10\n"
     ]
    }
   ],
   "source": [
    "a = 1\n",
    "while(a<11):\n",
    "    print(a)\n",
    "    a= a+1\n"
   ]
  },
  {
   "cell_type": "markdown",
   "id": "01d08ff2-38b4-4ec7-a5ec-2fc86e8ac10a",
   "metadata": {},
   "source": [
    "q13"
   ]
  },
  {
   "cell_type": "markdown",
   "id": "ac01cd33-b07a-4b3c-b207-41242dd2da83",
   "metadata": {},
   "source": [
    "spam.bacon()"
   ]
  },
  {
   "cell_type": "markdown",
   "id": "b6b03eaa-8f1f-4620-802d-f81e6ca17e3b",
   "metadata": {},
   "source": []
  }
 ],
 "metadata": {
  "kernelspec": {
   "display_name": "Python 3 (ipykernel)",
   "language": "python",
   "name": "python3"
  },
  "language_info": {
   "codemirror_mode": {
    "name": "ipython",
    "version": 3
   },
   "file_extension": ".py",
   "mimetype": "text/x-python",
   "name": "python",
   "nbconvert_exporter": "python",
   "pygments_lexer": "ipython3",
   "version": "3.10.6"
  }
 },
 "nbformat": 4,
 "nbformat_minor": 5
}
