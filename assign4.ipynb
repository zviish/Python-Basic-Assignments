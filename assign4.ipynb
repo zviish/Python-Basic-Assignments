{
 "cells": [
  {
   "cell_type": "markdown",
   "id": "ce4a2b9e-a611-417d-9437-ec5a4b60fb73",
   "metadata": {},
   "source": [
    "Q1"
   ]
  },
  {
   "cell_type": "markdown",
   "id": "91d70b4c-39bf-4be1-b051-09e0e7de2534",
   "metadata": {},
   "source": [
    "[ ] indicates an empty list, we enclose list elements inside square brackets"
   ]
  },
  {
   "cell_type": "markdown",
   "id": "34b66a46-ec79-4d53-87bb-fbe5450bf7dc",
   "metadata": {},
   "source": [
    "Q2"
   ]
  },
  {
   "cell_type": "code",
   "execution_count": 10,
   "id": "ec523651-ab3a-4527-a389-dc5ac8455ab9",
   "metadata": {},
   "outputs": [],
   "source": [
    "spam = [2, 4, 6, 8, 10]\n",
    "spam[2] = 'hello'"
   ]
  },
  {
   "cell_type": "code",
   "execution_count": 11,
   "id": "f0cc871c-7abe-4c8b-91bf-de133932bb87",
   "metadata": {},
   "outputs": [
    {
     "data": {
      "text/plain": [
       "[2, 4, 'hello', 8, 10]"
      ]
     },
     "execution_count": 11,
     "metadata": {},
     "output_type": "execute_result"
    }
   ],
   "source": [
    "spam"
   ]
  },
  {
   "cell_type": "code",
   "execution_count": 30,
   "id": "194c651c-712f-4c4f-9006-9d3276d08794",
   "metadata": {},
   "outputs": [],
   "source": [
    "spam.insert(2,'hello')"
   ]
  },
  {
   "cell_type": "code",
   "execution_count": 31,
   "id": "50e72fc6-a830-4678-8ab8-39d6d631dac6",
   "metadata": {},
   "outputs": [
    {
     "data": {
      "text/plain": [
       "['a', 'b', 'hello', 'c', 'd']"
      ]
     },
     "execution_count": 31,
     "metadata": {},
     "output_type": "execute_result"
    }
   ],
   "source": [
    "spam"
   ]
  },
  {
   "cell_type": "markdown",
   "id": "31a2ec20-a217-4c14-9080-5719fc022a65",
   "metadata": {},
   "source": [
    "Q3"
   ]
  },
  {
   "cell_type": "code",
   "execution_count": 19,
   "id": "4cc7a2a0-0f5d-49db-a56a-659dac74dc95",
   "metadata": {},
   "outputs": [
    {
     "data": {
      "text/plain": [
       "'d'"
      ]
     },
     "execution_count": 19,
     "metadata": {},
     "output_type": "execute_result"
    }
   ],
   "source": [
    "spam = ['a', 'b', 'c', 'd']\n",
    "spam[int(int('3' * 2) / 11)]"
   ]
  },
  {
   "cell_type": "markdown",
   "id": "bfb9eef6-81b9-4a2b-81de-fda6b7dfe0ee",
   "metadata": {},
   "source": [
    "Q4"
   ]
  },
  {
   "cell_type": "code",
   "execution_count": 20,
   "id": "9db0c077-7b58-420c-b97f-712879172578",
   "metadata": {},
   "outputs": [
    {
     "data": {
      "text/plain": [
       "'d'"
      ]
     },
     "execution_count": 20,
     "metadata": {},
     "output_type": "execute_result"
    }
   ],
   "source": [
    "spam[-1]"
   ]
  },
  {
   "cell_type": "code",
   "execution_count": 21,
   "id": "0f2e92c7-a1ae-4343-9599-28cbf6864db2",
   "metadata": {},
   "outputs": [
    {
     "data": {
      "text/plain": [
       "['a', 'b', 'c', 'd']"
      ]
     },
     "execution_count": 21,
     "metadata": {},
     "output_type": "execute_result"
    }
   ],
   "source": [
    "spam"
   ]
  },
  {
   "cell_type": "markdown",
   "id": "ebfdfa4d-94da-48be-8f74-53956207e2fb",
   "metadata": {},
   "source": [
    "Q5"
   ]
  },
  {
   "cell_type": "code",
   "execution_count": 22,
   "id": "ac00d35d-fb55-4ec2-a6fb-664db5463e92",
   "metadata": {},
   "outputs": [
    {
     "ename": "SyntaxError",
     "evalue": "invalid syntax (27254747.py, line 1)",
     "output_type": "error",
     "traceback": [
      "\u001b[0;36m  Cell \u001b[0;32mIn [22], line 1\u001b[0;36m\u001b[0m\n\u001b[0;31m    [:2]\u001b[0m\n\u001b[0m     ^\u001b[0m\n\u001b[0;31mSyntaxError\u001b[0m\u001b[0;31m:\u001b[0m invalid syntax\n"
     ]
    }
   ],
   "source": [
    "[:2]"
   ]
  },
  {
   "cell_type": "markdown",
   "id": "ae3b8183-5412-4dc3-a1a1-acbd9a870351",
   "metadata": {},
   "source": [
    "Q6"
   ]
  },
  {
   "cell_type": "code",
   "execution_count": 23,
   "id": "774803e1-5312-4b26-a15b-d3a8ac4e46a8",
   "metadata": {},
   "outputs": [],
   "source": [
    "bacon= [3.14,'cat',11,'cat',True]"
   ]
  },
  {
   "cell_type": "code",
   "execution_count": 24,
   "id": "9f5bcd4c-ecf1-427b-a29f-33bd00df3e32",
   "metadata": {},
   "outputs": [
    {
     "data": {
      "text/plain": [
       "1"
      ]
     },
     "execution_count": 24,
     "metadata": {},
     "output_type": "execute_result"
    }
   ],
   "source": [
    "bacon.index('cat')"
   ]
  },
  {
   "cell_type": "markdown",
   "id": "3addd421-9f4a-481b-b1de-0bfa51ddc338",
   "metadata": {},
   "source": [
    "Q7"
   ]
  },
  {
   "cell_type": "code",
   "execution_count": 25,
   "id": "594fa783-fec5-4f11-a5d6-b1170bf24a17",
   "metadata": {},
   "outputs": [],
   "source": [
    "bacon.append(99)"
   ]
  },
  {
   "cell_type": "code",
   "execution_count": 26,
   "id": "37883148-e644-49ab-a3fc-d2b35c609fd5",
   "metadata": {},
   "outputs": [
    {
     "data": {
      "text/plain": [
       "[3.14, 'cat', 11, 'cat', True, 99]"
      ]
     },
     "execution_count": 26,
     "metadata": {},
     "output_type": "execute_result"
    }
   ],
   "source": [
    "bacon"
   ]
  },
  {
   "cell_type": "markdown",
   "id": "39cb4f64-a46c-47d3-baf5-4d6786123cbd",
   "metadata": {},
   "source": [
    "Q8"
   ]
  },
  {
   "cell_type": "code",
   "execution_count": 27,
   "id": "b7e7d961-ec36-4e36-b7b4-e75049193fa7",
   "metadata": {},
   "outputs": [],
   "source": [
    "bacon.remove('cat')"
   ]
  },
  {
   "cell_type": "code",
   "execution_count": 28,
   "id": "346463cb-d932-4461-90a3-c7b879de0c83",
   "metadata": {},
   "outputs": [
    {
     "data": {
      "text/plain": [
       "[3.14, 11, 'cat', True, 99]"
      ]
     },
     "execution_count": 28,
     "metadata": {},
     "output_type": "execute_result"
    }
   ],
   "source": [
    "bacon"
   ]
  },
  {
   "cell_type": "markdown",
   "id": "4be50bec-7a5a-4c0d-bfed-ac120eb94e05",
   "metadata": {},
   "source": [
    "Q9"
   ]
  },
  {
   "cell_type": "markdown",
   "id": "3b2885ae-e743-4093-8d4d-2633d2b8974a",
   "metadata": {},
   "source": [
    "list concatination operators : append(), extend(), add\n",
    "list replication operators : "
   ]
  },
  {
   "cell_type": "markdown",
   "id": "8097da41-3349-4d50-8722-de2f3c0d9186",
   "metadata": {},
   "source": [
    "Q10"
   ]
  },
  {
   "cell_type": "markdown",
   "id": "977b380d-90d9-4ab3-8c43-54d8c6e5a206",
   "metadata": {},
   "source": [
    "append() concatinates and the value is inserted at the end & insert() inserts a value at a given index"
   ]
  },
  {
   "cell_type": "markdown",
   "id": "b04c1f04-d36a-41b6-9214-4a860f8b5995",
   "metadata": {},
   "source": [
    "Q11"
   ]
  },
  {
   "cell_type": "markdown",
   "id": "f84fcdfa-336f-45b5-bca5-e40dda5fdfbc",
   "metadata": {},
   "source": [
    "remove items from list :\n",
    "    pop(), remove()"
   ]
  },
  {
   "cell_type": "code",
   "execution_count": 49,
   "id": "02e84030-8e7f-4f09-8d25-04380f6cf2c9",
   "metadata": {},
   "outputs": [],
   "source": [
    "l=[1,2,3,45,6]"
   ]
  },
  {
   "cell_type": "code",
   "execution_count": 50,
   "id": "f9614d37-9dc3-4f93-9cb2-446374006afa",
   "metadata": {},
   "outputs": [
    {
     "data": {
      "text/plain": [
       "6"
      ]
     },
     "execution_count": 50,
     "metadata": {},
     "output_type": "execute_result"
    }
   ],
   "source": [
    "l.pop()"
   ]
  },
  {
   "cell_type": "code",
   "execution_count": 51,
   "id": "cbad0966-02e6-4b31-b71e-0ab9ecb1a574",
   "metadata": {},
   "outputs": [
    {
     "data": {
      "text/plain": [
       "[1, 2, 3, 45]"
      ]
     },
     "execution_count": 51,
     "metadata": {},
     "output_type": "execute_result"
    }
   ],
   "source": [
    "l"
   ]
  },
  {
   "cell_type": "code",
   "execution_count": 52,
   "id": "525122e9-a9da-40bd-9c64-c99a73010ac0",
   "metadata": {},
   "outputs": [],
   "source": [
    "l.remove(2)"
   ]
  },
  {
   "cell_type": "code",
   "execution_count": 53,
   "id": "6bc198b4-fdc7-4cb3-97ac-c512f1b9bcec",
   "metadata": {},
   "outputs": [
    {
     "data": {
      "text/plain": [
       "[1, 3, 45]"
      ]
     },
     "execution_count": 53,
     "metadata": {},
     "output_type": "execute_result"
    }
   ],
   "source": [
    "l"
   ]
  },
  {
   "cell_type": "markdown",
   "id": "8fa46c32-a9c9-4aee-9d16-1a5b2bc752f8",
   "metadata": {},
   "source": [
    "Q12"
   ]
  },
  {
   "cell_type": "code",
   "execution_count": 56,
   "id": "f8f37033-40be-46d2-bc20-494890e336b2",
   "metadata": {},
   "outputs": [],
   "source": [
    "s = 'sudh'"
   ]
  },
  {
   "cell_type": "code",
   "execution_count": 58,
   "id": "25ff6639-c073-42da-b31a-04e9667d30e2",
   "metadata": {},
   "outputs": [],
   "source": [
    "l1 = [1,2,3,45,5]"
   ]
  },
  {
   "cell_type": "markdown",
   "id": "af23b450-9401-4fb6-8282-9c27582c7165",
   "metadata": {},
   "source": [
    "both string & list values have their indexes, elements can be accesed the same way, both of them can be reversed "
   ]
  },
  {
   "cell_type": "markdown",
   "id": "4cb8cd14-7173-4e1d-a3c7-1218ec8a00e3",
   "metadata": {},
   "source": [
    "Q13"
   ]
  },
  {
   "cell_type": "code",
   "execution_count": 59,
   "id": "29472534-371a-4711-8778-4666e53a97e2",
   "metadata": {},
   "outputs": [],
   "source": [
    "l = (1,2,3,4,5)"
   ]
  },
  {
   "cell_type": "code",
   "execution_count": 60,
   "id": "95df0241-68aa-4e7b-b11e-8b47771ca8f9",
   "metadata": {},
   "outputs": [
    {
     "ename": "TypeError",
     "evalue": "'tuple' object does not support item assignment",
     "output_type": "error",
     "traceback": [
      "\u001b[0;31m---------------------------------------------------------------------------\u001b[0m",
      "\u001b[0;31mTypeError\u001b[0m                                 Traceback (most recent call last)",
      "Cell \u001b[0;32mIn [60], line 1\u001b[0m\n\u001b[0;32m----> 1\u001b[0m \u001b[43ml\u001b[49m\u001b[43m[\u001b[49m\u001b[38;5;241;43m0\u001b[39;49m\u001b[43m]\u001b[49m \u001b[38;5;241m=\u001b[39m \u001b[38;5;241m24\u001b[39m\n",
      "\u001b[0;31mTypeError\u001b[0m: 'tuple' object does not support item assignment"
     ]
    }
   ],
   "source": [
    "l[0] = 24"
   ]
  },
  {
   "cell_type": "code",
   "execution_count": 61,
   "id": "caa702c4-622f-4d54-b144-9645d46c43ab",
   "metadata": {},
   "outputs": [],
   "source": [
    "l1 = [1,2,34,5,6]\n",
    "l1[0] = 99"
   ]
  },
  {
   "cell_type": "code",
   "execution_count": 62,
   "id": "d6a54ec7-4242-448f-ad85-398345882320",
   "metadata": {},
   "outputs": [
    {
     "data": {
      "text/plain": [
       "[99, 2, 34, 5, 6]"
      ]
     },
     "execution_count": 62,
     "metadata": {},
     "output_type": "execute_result"
    }
   ],
   "source": [
    "l1"
   ]
  },
  {
   "cell_type": "markdown",
   "id": "c5ad3334-6c71-4436-992f-0d799c60564f",
   "metadata": {},
   "source": [
    "list is mutable (values can be changed afterwards) where as tuple is immutable (values can't be changed afterwards)"
   ]
  },
  {
   "cell_type": "markdown",
   "id": "0cc5b0d4-1332-43db-ac43-3b0d8f94fb36",
   "metadata": {},
   "source": [
    "Q14"
   ]
  },
  {
   "cell_type": "code",
   "execution_count": 63,
   "id": "12528a39-49c0-4216-95b1-0732e0230ea4",
   "metadata": {},
   "outputs": [],
   "source": [
    "t = (42)"
   ]
  },
  {
   "cell_type": "code",
   "execution_count": 64,
   "id": "3c2f079e-4820-4e31-98d6-4c34365b3580",
   "metadata": {},
   "outputs": [
    {
     "data": {
      "text/plain": [
       "42"
      ]
     },
     "execution_count": 64,
     "metadata": {},
     "output_type": "execute_result"
    }
   ],
   "source": [
    "t"
   ]
  },
  {
   "cell_type": "markdown",
   "id": "0c1b9486-c701-463f-845d-ce63515493ad",
   "metadata": {},
   "source": [
    "Q15"
   ]
  },
  {
   "cell_type": "code",
   "execution_count": 3,
   "id": "3a4e4e1b-6e30-4978-bc2d-caf8ab2c3597",
   "metadata": {},
   "outputs": [],
   "source": [
    "l = (1,2,3,4,45,6,7,78,9)\n",
    "m = [1,2,3,'a','b',45,6]"
   ]
  },
  {
   "cell_type": "code",
   "execution_count": 4,
   "id": "a419bc69-feb2-47ed-8441-d180f3193b20",
   "metadata": {},
   "outputs": [
    {
     "data": {
      "text/plain": [
       "(1, 2, 3, 4, 45, 6, 7, 78, 9)"
      ]
     },
     "execution_count": 4,
     "metadata": {},
     "output_type": "execute_result"
    }
   ],
   "source": [
    "l"
   ]
  },
  {
   "cell_type": "code",
   "execution_count": 16,
   "id": "49378260-0d9c-4167-84cc-eea58e05962c",
   "metadata": {},
   "outputs": [],
   "source": [
    "k = list(l)         #way1"
   ]
  },
  {
   "cell_type": "code",
   "execution_count": 17,
   "id": "f8a4356e-5475-48be-bef8-435594f61ba6",
   "metadata": {},
   "outputs": [
    {
     "data": {
      "text/plain": [
       "[1, 2, 3, 4, 45, 6, 7, 78, 9]"
      ]
     },
     "execution_count": 17,
     "metadata": {},
     "output_type": "execute_result"
    }
   ],
   "source": [
    "k"
   ]
  },
  {
   "cell_type": "code",
   "execution_count": 6,
   "id": "ba93ea95-3198-4811-bceb-3dd2c4d6c535",
   "metadata": {},
   "outputs": [
    {
     "name": "stdout",
     "output_type": "stream",
     "text": [
      "[1, 2, 3, 4, 45, 6, 7, 78, 9]\n"
     ]
    }
   ],
   "source": [
    "l1 =[]              #way 2\n",
    "for i in l :\n",
    "    l1.append(i)\n",
    "print (list(l1))\n"
   ]
  },
  {
   "cell_type": "code",
   "execution_count": 7,
   "id": "68bc13ed-9248-45e0-9a7f-09465c957d59",
   "metadata": {},
   "outputs": [
    {
     "data": {
      "text/plain": [
       "[1, 2, 3, 'a', 'b', 45, 6]"
      ]
     },
     "execution_count": 7,
     "metadata": {},
     "output_type": "execute_result"
    }
   ],
   "source": [
    "m"
   ]
  },
  {
   "cell_type": "code",
   "execution_count": 14,
   "id": "22272570-a1a7-43b6-b7b1-a01d9700ee17",
   "metadata": {},
   "outputs": [],
   "source": [
    "t= tuple(m)"
   ]
  },
  {
   "cell_type": "code",
   "execution_count": 15,
   "id": "28e4a285-7c1e-4926-b218-07483345ffca",
   "metadata": {},
   "outputs": [
    {
     "data": {
      "text/plain": [
       "(1, 2, 3, 'a', 'b', 45, 6)"
      ]
     },
     "execution_count": 15,
     "metadata": {},
     "output_type": "execute_result"
    }
   ],
   "source": [
    "t"
   ]
  },
  {
   "cell_type": "markdown",
   "id": "858f6499-db0e-4eb4-84eb-99f6b2eadd48",
   "metadata": {},
   "source": [
    "Q16"
   ]
  },
  {
   "cell_type": "markdown",
   "id": "4c9ac231-5f44-4ece-889c-d581a975334c",
   "metadata": {},
   "source": [
    "variables that contain list values are not list themselves instead they contain the reference to the list values"
   ]
  },
  {
   "cell_type": "markdown",
   "id": "0cb99efe-7456-4169-9f36-eee71dfb1783",
   "metadata": {},
   "source": [
    "Q17"
   ]
  },
  {
   "cell_type": "code",
   "execution_count": 19,
   "id": "cf9a961a-0bbd-4d5d-aafb-55765e793574",
   "metadata": {},
   "outputs": [],
   "source": [
    "l1=[[1,2],[3,4]]"
   ]
  },
  {
   "cell_type": "code",
   "execution_count": 21,
   "id": "0b82457c-1f3a-440b-b368-811c0853c46d",
   "metadata": {},
   "outputs": [],
   "source": [
    "import copy"
   ]
  },
  {
   "cell_type": "code",
   "execution_count": 22,
   "id": "182f0d80-fcd2-4f68-a356-21ad09633d95",
   "metadata": {},
   "outputs": [],
   "source": [
    "l2= copy.deepcopy(l1)"
   ]
  },
  {
   "cell_type": "code",
   "execution_count": 23,
   "id": "17803cb8-b136-4e34-9b8a-7dac0808c572",
   "metadata": {},
   "outputs": [
    {
     "data": {
      "text/plain": [
       "[[1, 2], [3, 4]]"
      ]
     },
     "execution_count": 23,
     "metadata": {},
     "output_type": "execute_result"
    }
   ],
   "source": [
    "l2"
   ]
  },
  {
   "cell_type": "code",
   "execution_count": 24,
   "id": "f3dda64c-93eb-4b9f-b445-e58a7547da85",
   "metadata": {},
   "outputs": [],
   "source": [
    "l2[0][0]= 45"
   ]
  },
  {
   "cell_type": "code",
   "execution_count": 28,
   "id": "34afca0a-c598-42b1-a086-c4eddae3b922",
   "metadata": {},
   "outputs": [
    {
     "data": {
      "text/plain": [
       "([[45, 2], [3, 4]],)"
      ]
     },
     "execution_count": 28,
     "metadata": {},
     "output_type": "execute_result"
    }
   ],
   "source": [
    "l2,"
   ]
  },
  {
   "cell_type": "code",
   "execution_count": 29,
   "id": "3e587902-535d-44c6-831d-bf3304516632",
   "metadata": {},
   "outputs": [
    {
     "data": {
      "text/plain": [
       "[[1, 2], [3, 4]]"
      ]
     },
     "execution_count": 29,
     "metadata": {},
     "output_type": "execute_result"
    }
   ],
   "source": [
    "l1"
   ]
  },
  {
   "cell_type": "markdown",
   "id": "aee67edd-2068-4f0e-b94e-adb928768bef",
   "metadata": {},
   "source": [
    "so if we use deep copy changes made on the copied object will not change the original data"
   ]
  },
  {
   "cell_type": "code",
   "execution_count": 30,
   "id": "1a4e19af-fa3b-4c06-8f36-de1289f68b3e",
   "metadata": {},
   "outputs": [],
   "source": [
    "l3=[[23,2],[1,3]]"
   ]
  },
  {
   "cell_type": "code",
   "execution_count": 31,
   "id": "0daefc40-e59a-44c3-bce1-e1ae29b361ec",
   "metadata": {},
   "outputs": [],
   "source": [
    "l4=copy.copy(l3)"
   ]
  },
  {
   "cell_type": "code",
   "execution_count": 32,
   "id": "2228209a-f6a4-43ef-8727-cb9b0a28f614",
   "metadata": {},
   "outputs": [
    {
     "data": {
      "text/plain": [
       "[[23, 2], [1, 3]]"
      ]
     },
     "execution_count": 32,
     "metadata": {},
     "output_type": "execute_result"
    }
   ],
   "source": [
    "l4"
   ]
  },
  {
   "cell_type": "code",
   "execution_count": 33,
   "id": "c054ddc4-ec5b-42c7-a0b2-a6e5997afbd6",
   "metadata": {},
   "outputs": [
    {
     "data": {
      "text/plain": [
       "[[23, 2], [1, 3]]"
      ]
     },
     "execution_count": 33,
     "metadata": {},
     "output_type": "execute_result"
    }
   ],
   "source": [
    "l3"
   ]
  },
  {
   "cell_type": "markdown",
   "id": "abede647-2205-4fd0-b414-dfebdcd1ee0d",
   "metadata": {},
   "source": [
    "so in shallow copy when we use .copy() it creates reference add of the original memorey location in the new copy, so any change made in new copy means change made in reference address hence original value will also change."
   ]
  }
 ],
 "metadata": {
  "kernelspec": {
   "display_name": "Python 3 (ipykernel)",
   "language": "python",
   "name": "python3"
  },
  "language_info": {
   "codemirror_mode": {
    "name": "ipython",
    "version": 3
   },
   "file_extension": ".py",
   "mimetype": "text/x-python",
   "name": "python",
   "nbconvert_exporter": "python",
   "pygments_lexer": "ipython3",
   "version": "3.10.6"
  }
 },
 "nbformat": 4,
 "nbformat_minor": 5
}
