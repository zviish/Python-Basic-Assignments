{
 "cells": [
  {
   "cell_type": "markdown",
   "id": "903ae98f-adc2-4456-94b8-6096a41047d7",
   "metadata": {},
   "source": [
    "# Assignment7"
   ]
  },
  {
   "cell_type": "markdown",
   "id": "8ac8c563-44ad-4cea-9f29-0ada3525eb2d",
   "metadata": {},
   "source": [
    "Q1.Feature responsible for regex objects is re.complie()"
   ]
  },
  {
   "cell_type": "markdown",
   "id": "a787e800-3b38-4063-a380-f76ca5748347",
   "metadata": {},
   "source": [
    "Q2. Raw strings are those strings where we want to skip the escpae sequence and we use regex objects"
   ]
  },
  {
   "cell_type": "markdown",
   "id": "417de422-8061-4ae9-b9f3-65baa1921b0f",
   "metadata": {},
   "source": [
    "Q3. search() method return the index position of the first match."
   ]
  },
  {
   "cell_type": "markdown",
   "id": "8779bfc1-7d75-46d8-8a15-f2cffee110bf",
   "metadata": {},
   "source": [
    "Q4. we use match() function to get the the actual strings that matches the pattern."
   ]
  },
  {
   "cell_type": "markdown",
   "id": "5a1f7d43-1ce6-453c-b47e-48973d966e7a",
   "metadata": {},
   "source": [
    "Q5. following are the outputs-:"
   ]
  },
  {
   "cell_type": "code",
   "execution_count": 1,
   "id": "a162f792-974e-460a-b25c-33ea3a976784",
   "metadata": {},
   "outputs": [
    {
     "data": {
      "text/plain": [
       "'(\\\\d\\\\d\\\\d)-(\\\\d\\\\d\\\\d-\\\\d\\\\d\\\\d\\\\d)'"
      ]
     },
     "execution_count": 1,
     "metadata": {},
     "output_type": "execute_result"
    }
   ],
   "source": [
    "r'(\\d\\d\\d)-(\\d\\d\\d-\\d\\d\\d\\d)'"
   ]
  },
  {
   "cell_type": "markdown",
   "id": "70ee4f87-6314-408b-9e41-70f41596e0a2",
   "metadata": {},
   "source": [
    "group0 covers = (\\\\d\\\\d\\\\d)\n",
    "\n",
    "group1 covers = \\\\d\\\\d\\\\d\n",
    "\n",
    "group2 covers = \\\\d\\\\d\\\\d"
   ]
  },
  {
   "cell_type": "markdown",
   "id": "32cf9811-ba53-4b86-9aec-af669016eff0",
   "metadata": {},
   "source": [
    "Q6. by formatting a standard expression syntax as r string we can tell a regex that we want it to fit real parentheses and periods. "
   ]
  },
  {
   "cell_type": "markdown",
   "id": "5be6cb92-7fe9-4615-8c80-e35e1a5ed35e",
   "metadata": {},
   "source": [
    "Q7. findall() method returns a string list, using it in regular repression causes it to return the string list."
   ]
  },
  {
   "cell_type": "markdown",
   "id": "5a059577-d633-40ff-8877-446d139010ae",
   "metadata": {},
   "source": [
    "Q8. (|)(bitwise OR) it matches the expression before or expression after the operator ."
   ]
  },
  {
   "cell_type": "markdown",
   "id": "65a654eb-d3fc-4431-86a6-78ecfe91c3ac",
   "metadata": {},
   "source": [
    "Q9. A regular expression is a sequence of characters that specifies a match pattern in text."
   ]
  },
  {
   "cell_type": "markdown",
   "id": "4d6a1e68-5e40-43d5-8e90-17d5a9e5517c",
   "metadata": {},
   "source": [
    "Q10. in regular expression + means one more time the previous expression where as * means zero more times."
   ]
  },
  {
   "cell_type": "markdown",
   "id": "a20b2c64-b127-4e07-8a9c-e73c69b351de",
   "metadata": {},
   "source": [
    "Q11. here {4} means it'll matches the preceding element at least 4 times & {4,5} means it matches the preceding element at least 4 times but not more than 5 times."
   ]
  },
  {
   "cell_type": "markdown",
   "id": "38ab16a4-de83-4599-a351-5507800e8a2a",
   "metadata": {},
   "source": [
    "Q12. in regular expression-:\n",
    "\n",
    "        \\d= digits(0-9)\n",
    "        \n",
    "        \\s= whitespace character\n",
    "        \n",
    "        \\w= alphanumeric characters"
   ]
  },
  {
   "cell_type": "markdown",
   "id": "b2e3a8c2-f579-4359-b706-a3ba52c9baeb",
   "metadata": {},
   "source": [
    "Q13. in regular expression-:\n",
    "\n",
    "        \\D= Matches any character that is not a digit\n",
    "        \n",
    "        \\S= non space(matches all non spce characters as numbers, symbol, letters)\n",
    "        \n",
    "        \\W= non alphanumeric characters"
   ]
  },
  {
   "cell_type": "markdown",
   "id": "1af88a54-eb20-4137-bdc4-5c5f3f25acec",
   "metadata": {},
   "source": [
    "Q14. Q14. (.*?) matches any character any no. of times & (.*)? where as this will try to match any character zero or one times."
   ]
  },
  {
   "cell_type": "markdown",
   "id": "eb89e412-28c7-439f-abc3-7201bc8b8817",
   "metadata": {},
   "source": [
    "Q15. syntax for matching both numbers and lowercase letters with a character class is \\w"
   ]
  },
  {
   "cell_type": "markdown",
   "id": "380a3975-422e-4904-8aca-45032c3c0d6a",
   "metadata": {},
   "source": [
    "Q16. using re.I is used for making a normal expression in regax case insensitive "
   ]
  },
  {
   "cell_type": "markdown",
   "id": "f3661bb7-85d3-4b70-a1b0-69e20a961def",
   "metadata": {},
   "source": [
    "Q17.  . character matches single character except line terminators eg /.y/ matches y in \"my\" but not yes in \"yes i'm ready\".\n",
    "        if reDOTALL is passed as second argument then it can match characters with multiple lines."
   ]
  },
  {
   "cell_type": "markdown",
   "id": "ce03b96f-dc8a-4855-82be-a5f461e4413f",
   "metadata": {},
   "source": [
    "Q18."
   ]
  },
  {
   "cell_type": "code",
   "execution_count": 5,
   "id": "a1732dc2-c16a-4237-a5c9-56a134699250",
   "metadata": {},
   "outputs": [
    {
     "data": {
      "text/plain": [
       "'X drummers, X pipers, five rings, X hen'"
      ]
     },
     "execution_count": 5,
     "metadata": {},
     "output_type": "execute_result"
    }
   ],
   "source": [
    "import re\n",
    "numRegex = re.compile(r'\\d+')\n",
    "numRegex.sub('X','11 drummers, 10 pipers, five rings, 4 hen')"
   ]
  },
  {
   "cell_type": "code",
   "execution_count": null,
   "id": "a37c901e-ae4e-4eda-a929-73faa8912799",
   "metadata": {},
   "outputs": [],
   "source": [
    "Q19. re.VERBOSE flag allows user to write regular expressions that look nicer and are more readble  "
   ]
  },
  {
   "cell_type": "code",
   "execution_count": null,
   "id": "8c46d1f7-c89c-46bb-9351-3fb5bc6d68dd",
   "metadata": {},
   "outputs": [],
   "source": [
    "Q20. (^\\d{1,3}(,\\d{3})*$)"
   ]
  },
  {
   "cell_type": "code",
   "execution_count": null,
   "id": "0c1f458b-e750-46e9-b134-505c049c9120",
   "metadata": {},
   "outputs": [],
   "source": [
    "Q21. re.compile(r'[A-Z][a-z]*\\sWatanabe')"
   ]
  },
  {
   "cell_type": "code",
   "execution_count": null,
   "id": "e801d684-092a-4f4f-a924-4ecec124a3ce",
   "metadata": {},
   "outputs": [],
   "source": [
    "Q22. re.compile(r'(Alice|Bob|Carol)\\s(eats|pets|throws)\\ s(apples|cats|baseballs)\\.', re.IGNORECASE)"
   ]
  }
 ],
 "metadata": {
  "kernelspec": {
   "display_name": "Python 3 (ipykernel)",
   "language": "python",
   "name": "python3"
  },
  "language_info": {
   "codemirror_mode": {
    "name": "ipython",
    "version": 3
   },
   "file_extension": ".py",
   "mimetype": "text/x-python",
   "name": "python",
   "nbconvert_exporter": "python",
   "pygments_lexer": "ipython3",
   "version": "3.10.6"
  }
 },
 "nbformat": 4,
 "nbformat_minor": 5
}
